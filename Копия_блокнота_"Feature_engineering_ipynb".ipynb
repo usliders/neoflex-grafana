{
  "nbformat": 4,
  "nbformat_minor": 0,
  "metadata": {
    "colab": {
      "provenance": [],
      "collapsed_sections": [
        "Q-G4102sT4X9",
        "k025DgC0VKAs",
        "QggLSuwTz06h",
        "Smf2x6zd3wu7",
        "E8n2QZP24GW4"
      ],
      "include_colab_link": true
    },
    "kernelspec": {
      "name": "python3",
      "display_name": "Python 3"
    },
    "language_info": {
      "name": "python"
    }
  },
  "cells": [
    {
      "cell_type": "markdown",
      "metadata": {
        "id": "view-in-github",
        "colab_type": "text"
      },
      "source": [
        "<a href=\"https://colab.research.google.com/github/usliders/neoflex-grafana/blob/main/%D0%9A%D0%BE%D0%BF%D0%B8%D1%8F_%D0%B1%D0%BB%D0%BE%D0%BA%D0%BD%D0%BE%D1%82%D0%B0_%22Feature_engineering_ipynb%22.ipynb\" target=\"_parent\"><img src=\"https://colab.research.google.com/assets/colab-badge.svg\" alt=\"Open In Colab\"/></a>"
      ]
    },
    {
      "cell_type": "markdown",
      "source": [
        "# Кредитный скоринг"
      ],
      "metadata": {
        "id": "RNFL5iwdwkyC"
      }
    },
    {
      "cell_type": "markdown",
      "source": [
        "В этом ноутбуке мы разберем некоторые темы feature engineering на примере датасета для задачи кредитного скоринга.\n",
        "\n",
        "Для этой задачи есть [учебное соревнование на Kaggle](https://www.kaggle.com/competitions/bank-issues-042022/leaderboard). Вы можете отправлять в него свои решения."
      ],
      "metadata": {
        "id": "sreSSTXSwoSC"
      }
    },
    {
      "cell_type": "markdown",
      "source": [
        "![bank_660x450_060220045959.jpg.webp](data:image/webp;base64,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)"
      ],
      "metadata": {
        "id": "EnvH3R4awThp"
      }
    },
    {
      "cell_type": "markdown",
      "source": [
        "## Скачивание данных"
      ],
      "metadata": {
        "id": "FjWcFtoeE0GF"
      }
    },
    {
      "cell_type": "markdown",
      "source": [
        "Скачаем данные и импортируем нужные библиотеки"
      ],
      "metadata": {
        "id": "ZHLrVVaFw6gb"
      }
    },
    {
      "cell_type": "code",
      "execution_count": 1,
      "metadata": {
        "id": "Kiu6bxTrEqwe",
        "colab": {
          "base_uri": "https://localhost:8080/"
        },
        "outputId": "ea2dea86-6f3f-47ef-87ee-bfd8d224fdec"
      },
      "outputs": [
        {
          "output_type": "stream",
          "name": "stdout",
          "text": [
            "Collecting wldhx.yadisk-direct\n",
            "  Downloading wldhx.yadisk_direct-0.0.6-py3-none-any.whl (4.5 kB)\n",
            "Requirement already satisfied: requests in /usr/local/lib/python3.10/dist-packages (from wldhx.yadisk-direct) (2.31.0)\n",
            "Requirement already satisfied: charset-normalizer<4,>=2 in /usr/local/lib/python3.10/dist-packages (from requests->wldhx.yadisk-direct) (3.3.0)\n",
            "Requirement already satisfied: idna<4,>=2.5 in /usr/local/lib/python3.10/dist-packages (from requests->wldhx.yadisk-direct) (3.4)\n",
            "Requirement already satisfied: urllib3<3,>=1.21.1 in /usr/local/lib/python3.10/dist-packages (from requests->wldhx.yadisk-direct) (2.0.7)\n",
            "Requirement already satisfied: certifi>=2017.4.17 in /usr/local/lib/python3.10/dist-packages (from requests->wldhx.yadisk-direct) (2023.7.22)\n",
            "Installing collected packages: wldhx.yadisk-direct\n",
            "Successfully installed wldhx.yadisk-direct-0.0.6\n",
            "  % Total    % Received % Xferd  Average Speed   Time    Time     Time  Current\n",
            "                                 Dload  Upload   Total   Spent    Left  Speed\n",
            "  0     0    0     0    0     0      0      0 --:--:-- --:--:-- --:--:--     0\n",
            "100 3473k  100 3473k    0     0  1216k      0  0:00:02  0:00:02 --:--:-- 2181k\n"
          ]
        }
      ],
      "source": [
        "! pip install wldhx.yadisk-direct\n",
        "! curl -L $(yadisk-direct https://disk.yandex.com/d/sknuSa3xoNBsDw) -o bank-issues-data.zip"
      ]
    },
    {
      "cell_type": "code",
      "source": [
        "! unzip -qq bank-issues-data.zip"
      ],
      "metadata": {
        "id": "YryIjqGiE8mO"
      },
      "execution_count": 2,
      "outputs": []
    },
    {
      "cell_type": "code",
      "source": [
        "import numpy as np\n",
        "import pandas as pd\n",
        "import matplotlib.pyplot as plt"
      ],
      "metadata": {
        "id": "3rBogZlyEzmV"
      },
      "execution_count": 3,
      "outputs": []
    },
    {
      "cell_type": "markdown",
      "source": [
        "## Обработка тренировочных данных"
      ],
      "metadata": {
        "id": "LD43TOtEGg_T"
      }
    },
    {
      "cell_type": "code",
      "source": [
        "train_data = pd.read_csv('./bank-issues-data/train.csv')\n",
        "test_data = pd.read_csv('./bank-issues-data/test.csv')"
      ],
      "metadata": {
        "id": "41kd9G9yE7Jy"
      },
      "execution_count": 4,
      "outputs": []
    },
    {
      "cell_type": "code",
      "source": [
        "train_data.head()"
      ],
      "metadata": {
        "id": "5yHwGgQ0FY14",
        "colab": {
          "base_uri": "https://localhost:8080/",
          "height": 278
        },
        "outputId": "9adb38cd-ef2d-4629-b80c-ce817789fc2b"
      },
      "execution_count": 5,
      "outputs": [
        {
          "output_type": "execute_result",
          "data": {
            "text/plain": [
              "   client_id gender  age marital_status job_position  credit_sum  \\\n",
              "0          1      M   25            UNM          SPC     26389.0   \n",
              "1          2      F   37            MAR          SPC     19588.0   \n",
              "2          3      F   28            UNM          SPC     53669.0   \n",
              "3          4      M   34            MAR          SPC     26349.0   \n",
              "4          5      F   43            MAR          UMN     11589.0   \n",
              "\n",
              "   credit_month  tariff_id  score_shk education         living_region  \\\n",
              "0            10       1.32   0.584105       SCH           ОБЛ КУРСКАЯ   \n",
              "1            12       1.43   0.718935       SCH  РЕСПУБЛИКА ТАТАРСТАН   \n",
              "2            18       1.10   0.586015       GRD              МОСКВА Г   \n",
              "3            10       1.43   0.655703       SCH  СВЕРДЛОВСКАЯ ОБЛАСТЬ   \n",
              "4            10       1.10   0.271893       GRD     РЯЗАНСКАЯ ОБЛАСТЬ   \n",
              "\n",
              "   monthly_income  credit_count  overdue_credit_count  open_account_flg  \n",
              "0         35000.0           2.0                   0.0                 1  \n",
              "1         15000.0           0.0                   0.0                 1  \n",
              "2         70000.0           4.0                   0.0                 1  \n",
              "3         42500.0           4.0                   0.0                 0  \n",
              "4         20000.0           3.0                   0.0                 0  "
            ],
            "text/html": [
              "\n",
              "  <div id=\"df-24e97c39-88a0-418f-badb-9a4f9df2b42d\" class=\"colab-df-container\">\n",
              "    <div>\n",
              "<style scoped>\n",
              "    .dataframe tbody tr th:only-of-type {\n",
              "        vertical-align: middle;\n",
              "    }\n",
              "\n",
              "    .dataframe tbody tr th {\n",
              "        vertical-align: top;\n",
              "    }\n",
              "\n",
              "    .dataframe thead th {\n",
              "        text-align: right;\n",
              "    }\n",
              "</style>\n",
              "<table border=\"1\" class=\"dataframe\">\n",
              "  <thead>\n",
              "    <tr style=\"text-align: right;\">\n",
              "      <th></th>\n",
              "      <th>client_id</th>\n",
              "      <th>gender</th>\n",
              "      <th>age</th>\n",
              "      <th>marital_status</th>\n",
              "      <th>job_position</th>\n",
              "      <th>credit_sum</th>\n",
              "      <th>credit_month</th>\n",
              "      <th>tariff_id</th>\n",
              "      <th>score_shk</th>\n",
              "      <th>education</th>\n",
              "      <th>living_region</th>\n",
              "      <th>monthly_income</th>\n",
              "      <th>credit_count</th>\n",
              "      <th>overdue_credit_count</th>\n",
              "      <th>open_account_flg</th>\n",
              "    </tr>\n",
              "  </thead>\n",
              "  <tbody>\n",
              "    <tr>\n",
              "      <th>0</th>\n",
              "      <td>1</td>\n",
              "      <td>M</td>\n",
              "      <td>25</td>\n",
              "      <td>UNM</td>\n",
              "      <td>SPC</td>\n",
              "      <td>26389.0</td>\n",
              "      <td>10</td>\n",
              "      <td>1.32</td>\n",
              "      <td>0.584105</td>\n",
              "      <td>SCH</td>\n",
              "      <td>ОБЛ КУРСКАЯ</td>\n",
              "      <td>35000.0</td>\n",
              "      <td>2.0</td>\n",
              "      <td>0.0</td>\n",
              "      <td>1</td>\n",
              "    </tr>\n",
              "    <tr>\n",
              "      <th>1</th>\n",
              "      <td>2</td>\n",
              "      <td>F</td>\n",
              "      <td>37</td>\n",
              "      <td>MAR</td>\n",
              "      <td>SPC</td>\n",
              "      <td>19588.0</td>\n",
              "      <td>12</td>\n",
              "      <td>1.43</td>\n",
              "      <td>0.718935</td>\n",
              "      <td>SCH</td>\n",
              "      <td>РЕСПУБЛИКА ТАТАРСТАН</td>\n",
              "      <td>15000.0</td>\n",
              "      <td>0.0</td>\n",
              "      <td>0.0</td>\n",
              "      <td>1</td>\n",
              "    </tr>\n",
              "    <tr>\n",
              "      <th>2</th>\n",
              "      <td>3</td>\n",
              "      <td>F</td>\n",
              "      <td>28</td>\n",
              "      <td>UNM</td>\n",
              "      <td>SPC</td>\n",
              "      <td>53669.0</td>\n",
              "      <td>18</td>\n",
              "      <td>1.10</td>\n",
              "      <td>0.586015</td>\n",
              "      <td>GRD</td>\n",
              "      <td>МОСКВА Г</td>\n",
              "      <td>70000.0</td>\n",
              "      <td>4.0</td>\n",
              "      <td>0.0</td>\n",
              "      <td>1</td>\n",
              "    </tr>\n",
              "    <tr>\n",
              "      <th>3</th>\n",
              "      <td>4</td>\n",
              "      <td>M</td>\n",
              "      <td>34</td>\n",
              "      <td>MAR</td>\n",
              "      <td>SPC</td>\n",
              "      <td>26349.0</td>\n",
              "      <td>10</td>\n",
              "      <td>1.43</td>\n",
              "      <td>0.655703</td>\n",
              "      <td>SCH</td>\n",
              "      <td>СВЕРДЛОВСКАЯ ОБЛАСТЬ</td>\n",
              "      <td>42500.0</td>\n",
              "      <td>4.0</td>\n",
              "      <td>0.0</td>\n",
              "      <td>0</td>\n",
              "    </tr>\n",
              "    <tr>\n",
              "      <th>4</th>\n",
              "      <td>5</td>\n",
              "      <td>F</td>\n",
              "      <td>43</td>\n",
              "      <td>MAR</td>\n",
              "      <td>UMN</td>\n",
              "      <td>11589.0</td>\n",
              "      <td>10</td>\n",
              "      <td>1.10</td>\n",
              "      <td>0.271893</td>\n",
              "      <td>GRD</td>\n",
              "      <td>РЯЗАНСКАЯ ОБЛАСТЬ</td>\n",
              "      <td>20000.0</td>\n",
              "      <td>3.0</td>\n",
              "      <td>0.0</td>\n",
              "      <td>0</td>\n",
              "    </tr>\n",
              "  </tbody>\n",
              "</table>\n",
              "</div>\n",
              "    <div class=\"colab-df-buttons\">\n",
              "\n",
              "  <div class=\"colab-df-container\">\n",
              "    <button class=\"colab-df-convert\" onclick=\"convertToInteractive('df-24e97c39-88a0-418f-badb-9a4f9df2b42d')\"\n",
              "            title=\"Convert this dataframe to an interactive table.\"\n",
              "            style=\"display:none;\">\n",
              "\n",
              "  <svg xmlns=\"http://www.w3.org/2000/svg\" height=\"24px\" viewBox=\"0 -960 960 960\">\n",
              "    <path d=\"M120-120v-720h720v720H120Zm60-500h600v-160H180v160Zm220 220h160v-160H400v160Zm0 220h160v-160H400v160ZM180-400h160v-160H180v160Zm440 0h160v-160H620v160ZM180-180h160v-160H180v160Zm440 0h160v-160H620v160Z\"/>\n",
              "  </svg>\n",
              "    </button>\n",
              "\n",
              "  <style>\n",
              "    .colab-df-container {\n",
              "      display:flex;\n",
              "      gap: 12px;\n",
              "    }\n",
              "\n",
              "    .colab-df-convert {\n",
              "      background-color: #E8F0FE;\n",
              "      border: none;\n",
              "      border-radius: 50%;\n",
              "      cursor: pointer;\n",
              "      display: none;\n",
              "      fill: #1967D2;\n",
              "      height: 32px;\n",
              "      padding: 0 0 0 0;\n",
              "      width: 32px;\n",
              "    }\n",
              "\n",
              "    .colab-df-convert:hover {\n",
              "      background-color: #E2EBFA;\n",
              "      box-shadow: 0px 1px 2px rgba(60, 64, 67, 0.3), 0px 1px 3px 1px rgba(60, 64, 67, 0.15);\n",
              "      fill: #174EA6;\n",
              "    }\n",
              "\n",
              "    .colab-df-buttons div {\n",
              "      margin-bottom: 4px;\n",
              "    }\n",
              "\n",
              "    [theme=dark] .colab-df-convert {\n",
              "      background-color: #3B4455;\n",
              "      fill: #D2E3FC;\n",
              "    }\n",
              "\n",
              "    [theme=dark] .colab-df-convert:hover {\n",
              "      background-color: #434B5C;\n",
              "      box-shadow: 0px 1px 3px 1px rgba(0, 0, 0, 0.15);\n",
              "      filter: drop-shadow(0px 1px 2px rgba(0, 0, 0, 0.3));\n",
              "      fill: #FFFFFF;\n",
              "    }\n",
              "  </style>\n",
              "\n",
              "    <script>\n",
              "      const buttonEl =\n",
              "        document.querySelector('#df-24e97c39-88a0-418f-badb-9a4f9df2b42d button.colab-df-convert');\n",
              "      buttonEl.style.display =\n",
              "        google.colab.kernel.accessAllowed ? 'block' : 'none';\n",
              "\n",
              "      async function convertToInteractive(key) {\n",
              "        const element = document.querySelector('#df-24e97c39-88a0-418f-badb-9a4f9df2b42d');\n",
              "        const dataTable =\n",
              "          await google.colab.kernel.invokeFunction('convertToInteractive',\n",
              "                                                    [key], {});\n",
              "        if (!dataTable) return;\n",
              "\n",
              "        const docLinkHtml = 'Like what you see? Visit the ' +\n",
              "          '<a target=\"_blank\" href=https://colab.research.google.com/notebooks/data_table.ipynb>data table notebook</a>'\n",
              "          + ' to learn more about interactive tables.';\n",
              "        element.innerHTML = '';\n",
              "        dataTable['output_type'] = 'display_data';\n",
              "        await google.colab.output.renderOutput(dataTable, element);\n",
              "        const docLink = document.createElement('div');\n",
              "        docLink.innerHTML = docLinkHtml;\n",
              "        element.appendChild(docLink);\n",
              "      }\n",
              "    </script>\n",
              "  </div>\n",
              "\n",
              "\n",
              "<div id=\"df-82eb1843-f348-475a-8ea8-2cbf12220c72\">\n",
              "  <button class=\"colab-df-quickchart\" onclick=\"quickchart('df-82eb1843-f348-475a-8ea8-2cbf12220c72')\"\n",
              "            title=\"Suggest charts.\"\n",
              "            style=\"display:none;\">\n",
              "\n",
              "<svg xmlns=\"http://www.w3.org/2000/svg\" height=\"24px\"viewBox=\"0 0 24 24\"\n",
              "     width=\"24px\">\n",
              "    <g>\n",
              "        <path d=\"M19 3H5c-1.1 0-2 .9-2 2v14c0 1.1.9 2 2 2h14c1.1 0 2-.9 2-2V5c0-1.1-.9-2-2-2zM9 17H7v-7h2v7zm4 0h-2V7h2v10zm4 0h-2v-4h2v4z\"/>\n",
              "    </g>\n",
              "</svg>\n",
              "  </button>\n",
              "\n",
              "<style>\n",
              "  .colab-df-quickchart {\n",
              "      --bg-color: #E8F0FE;\n",
              "      --fill-color: #1967D2;\n",
              "      --hover-bg-color: #E2EBFA;\n",
              "      --hover-fill-color: #174EA6;\n",
              "      --disabled-fill-color: #AAA;\n",
              "      --disabled-bg-color: #DDD;\n",
              "  }\n",
              "\n",
              "  [theme=dark] .colab-df-quickchart {\n",
              "      --bg-color: #3B4455;\n",
              "      --fill-color: #D2E3FC;\n",
              "      --hover-bg-color: #434B5C;\n",
              "      --hover-fill-color: #FFFFFF;\n",
              "      --disabled-bg-color: #3B4455;\n",
              "      --disabled-fill-color: #666;\n",
              "  }\n",
              "\n",
              "  .colab-df-quickchart {\n",
              "    background-color: var(--bg-color);\n",
              "    border: none;\n",
              "    border-radius: 50%;\n",
              "    cursor: pointer;\n",
              "    display: none;\n",
              "    fill: var(--fill-color);\n",
              "    height: 32px;\n",
              "    padding: 0;\n",
              "    width: 32px;\n",
              "  }\n",
              "\n",
              "  .colab-df-quickchart:hover {\n",
              "    background-color: var(--hover-bg-color);\n",
              "    box-shadow: 0 1px 2px rgba(60, 64, 67, 0.3), 0 1px 3px 1px rgba(60, 64, 67, 0.15);\n",
              "    fill: var(--button-hover-fill-color);\n",
              "  }\n",
              "\n",
              "  .colab-df-quickchart-complete:disabled,\n",
              "  .colab-df-quickchart-complete:disabled:hover {\n",
              "    background-color: var(--disabled-bg-color);\n",
              "    fill: var(--disabled-fill-color);\n",
              "    box-shadow: none;\n",
              "  }\n",
              "\n",
              "  .colab-df-spinner {\n",
              "    border: 2px solid var(--fill-color);\n",
              "    border-color: transparent;\n",
              "    border-bottom-color: var(--fill-color);\n",
              "    animation:\n",
              "      spin 1s steps(1) infinite;\n",
              "  }\n",
              "\n",
              "  @keyframes spin {\n",
              "    0% {\n",
              "      border-color: transparent;\n",
              "      border-bottom-color: var(--fill-color);\n",
              "      border-left-color: var(--fill-color);\n",
              "    }\n",
              "    20% {\n",
              "      border-color: transparent;\n",
              "      border-left-color: var(--fill-color);\n",
              "      border-top-color: var(--fill-color);\n",
              "    }\n",
              "    30% {\n",
              "      border-color: transparent;\n",
              "      border-left-color: var(--fill-color);\n",
              "      border-top-color: var(--fill-color);\n",
              "      border-right-color: var(--fill-color);\n",
              "    }\n",
              "    40% {\n",
              "      border-color: transparent;\n",
              "      border-right-color: var(--fill-color);\n",
              "      border-top-color: var(--fill-color);\n",
              "    }\n",
              "    60% {\n",
              "      border-color: transparent;\n",
              "      border-right-color: var(--fill-color);\n",
              "    }\n",
              "    80% {\n",
              "      border-color: transparent;\n",
              "      border-right-color: var(--fill-color);\n",
              "      border-bottom-color: var(--fill-color);\n",
              "    }\n",
              "    90% {\n",
              "      border-color: transparent;\n",
              "      border-bottom-color: var(--fill-color);\n",
              "    }\n",
              "  }\n",
              "</style>\n",
              "\n",
              "  <script>\n",
              "    async function quickchart(key) {\n",
              "      const quickchartButtonEl =\n",
              "        document.querySelector('#' + key + ' button');\n",
              "      quickchartButtonEl.disabled = true;  // To prevent multiple clicks.\n",
              "      quickchartButtonEl.classList.add('colab-df-spinner');\n",
              "      try {\n",
              "        const charts = await google.colab.kernel.invokeFunction(\n",
              "            'suggestCharts', [key], {});\n",
              "      } catch (error) {\n",
              "        console.error('Error during call to suggestCharts:', error);\n",
              "      }\n",
              "      quickchartButtonEl.classList.remove('colab-df-spinner');\n",
              "      quickchartButtonEl.classList.add('colab-df-quickchart-complete');\n",
              "    }\n",
              "    (() => {\n",
              "      let quickchartButtonEl =\n",
              "        document.querySelector('#df-82eb1843-f348-475a-8ea8-2cbf12220c72 button');\n",
              "      quickchartButtonEl.style.display =\n",
              "        google.colab.kernel.accessAllowed ? 'block' : 'none';\n",
              "    })();\n",
              "  </script>\n",
              "</div>\n",
              "    </div>\n",
              "  </div>\n"
            ]
          },
          "metadata": {},
          "execution_count": 5
        }
      ]
    },
    {
      "cell_type": "markdown",
      "source": [
        "Поля данных:\n",
        "- **client_id** — Уникальный идентификатор клиента\n",
        "- **gender** — Пол\n",
        "- **age** — Возраст (в годах)\n",
        "- **marital_status** — Семейное положение.\n",
        "    Возможные значения:\n",
        "    - UNM : Холост/не замужем\n",
        "    - DIV : Резведен (а)\n",
        "    - MAR : Женат/замужем\n",
        "    - WID : Вдовец, вдова\n",
        "    - CIV : Гражданский брак\n",
        "- **job_position** — Работа.\n",
        "    Возможные значения:\n",
        "    - SPC : Неруководящий сотрудник - специалист\n",
        "    - DIR : Руководитель организации\n",
        "    - HSK : Домохозяйка\n",
        "    - WOI : Работает на ИП\n",
        "    - WRK : Неруководящий сотрудник - рабочий\n",
        "    - ATP : Неруководящий сотрудник - обслуживающий персонал\n",
        "    - WRP : Работающий пенсионер\n",
        "    - UMN : Руководитель подразделения\n",
        "    - NOR : Не работает\n",
        "    - NS : Пенсионер\n",
        "    - BIS : Собственный бизнес\n",
        "    - INP : Индивидуальный предприниматель\n",
        "- **credit_sum** — Сумма кредита\n",
        "- **credit_month** — Срок кредитования в месяцах\n",
        "- **tariff_id** — Номер предлагаемого тарифа\n",
        "- **education** — Тип образования.\n",
        "    Возможные знаяения:\n",
        "    - SCH : Начальное, среднее\n",
        "    - PGR : Второе высшее\n",
        "    - GRD : Высшее\n",
        "    - UGR : Неполное высшее\n",
        "    - ACD : Ученая степень\n",
        "- **living_region** — Регион проживания\n",
        "- **monthly_income** — Зарплата в месяц\n",
        "- **credit_count** — Количество кредитов у клиента\n",
        "- **overdue_credit_count** — Количество просроченных кредитов клиента\n",
        "- **open_account_flag** — Целевая переменная -- выберет клиент наш банк или нет"
      ],
      "metadata": {
        "id": "Y-BTOfC9FdIH"
      }
    },
    {
      "cell_type": "markdown",
      "source": [
        "Отделим целевую переменную от признаков:"
      ],
      "metadata": {
        "id": "LHkyEFnB3le2"
      }
    },
    {
      "cell_type": "code",
      "source": [
        "y_train = train_data['open_account_flg']\n",
        "train_data = train_data.drop(columns=['open_account_flg'])"
      ],
      "metadata": {
        "id": "d1vuf-VU3eYG"
      },
      "execution_count": 6,
      "outputs": []
    },
    {
      "cell_type": "code",
      "source": [
        "train_data.info()"
      ],
      "metadata": {
        "id": "g2_0eoKdFano",
        "colab": {
          "base_uri": "https://localhost:8080/"
        },
        "outputId": "862f4f79-421f-46c6-cd51-1773cfbe06e3"
      },
      "execution_count": 7,
      "outputs": [
        {
          "output_type": "stream",
          "name": "stdout",
          "text": [
            "<class 'pandas.core.frame.DataFrame'>\n",
            "RangeIndex: 119518 entries, 0 to 119517\n",
            "Data columns (total 14 columns):\n",
            " #   Column                Non-Null Count   Dtype  \n",
            "---  ------                --------------   -----  \n",
            " 0   client_id             119518 non-null  int64  \n",
            " 1   gender                119518 non-null  object \n",
            " 2   age                   119518 non-null  int64  \n",
            " 3   marital_status        119518 non-null  object \n",
            " 4   job_position          119518 non-null  object \n",
            " 5   credit_sum            119518 non-null  float64\n",
            " 6   credit_month          119518 non-null  int64  \n",
            " 7   tariff_id             119518 non-null  float64\n",
            " 8   score_shk             119518 non-null  float64\n",
            " 9   education             119518 non-null  object \n",
            " 10  living_region         119385 non-null  object \n",
            " 11  monthly_income        119518 non-null  float64\n",
            " 12  credit_count          113032 non-null  float64\n",
            " 13  overdue_credit_count  113032 non-null  float64\n",
            "dtypes: float64(6), int64(3), object(5)\n",
            "memory usage: 12.8+ MB\n"
          ]
        }
      ]
    },
    {
      "cell_type": "markdown",
      "source": [
        "### Заполнение пропусков"
      ],
      "metadata": {
        "id": "LyI640zcGc95"
      }
    },
    {
      "cell_type": "markdown",
      "source": [
        "Еще раз выведем то, как выглядят тренировочные данные для удобства"
      ],
      "metadata": {
        "id": "yWqnYmYWxbVB"
      }
    },
    {
      "cell_type": "code",
      "source": [
        "train_data.head()"
      ],
      "metadata": {
        "id": "dVstclcrGLiY",
        "colab": {
          "base_uri": "https://localhost:8080/",
          "height": 278
        },
        "outputId": "6d551c6c-a242-4b19-993f-f7c028c5443f"
      },
      "execution_count": 8,
      "outputs": [
        {
          "output_type": "execute_result",
          "data": {
            "text/plain": [
              "   client_id gender  age marital_status job_position  credit_sum  \\\n",
              "0          1      M   25            UNM          SPC     26389.0   \n",
              "1          2      F   37            MAR          SPC     19588.0   \n",
              "2          3      F   28            UNM          SPC     53669.0   \n",
              "3          4      M   34            MAR          SPC     26349.0   \n",
              "4          5      F   43            MAR          UMN     11589.0   \n",
              "\n",
              "   credit_month  tariff_id  score_shk education         living_region  \\\n",
              "0            10       1.32   0.584105       SCH           ОБЛ КУРСКАЯ   \n",
              "1            12       1.43   0.718935       SCH  РЕСПУБЛИКА ТАТАРСТАН   \n",
              "2            18       1.10   0.586015       GRD              МОСКВА Г   \n",
              "3            10       1.43   0.655703       SCH  СВЕРДЛОВСКАЯ ОБЛАСТЬ   \n",
              "4            10       1.10   0.271893       GRD     РЯЗАНСКАЯ ОБЛАСТЬ   \n",
              "\n",
              "   monthly_income  credit_count  overdue_credit_count  \n",
              "0         35000.0           2.0                   0.0  \n",
              "1         15000.0           0.0                   0.0  \n",
              "2         70000.0           4.0                   0.0  \n",
              "3         42500.0           4.0                   0.0  \n",
              "4         20000.0           3.0                   0.0  "
            ],
            "text/html": [
              "\n",
              "  <div id=\"df-40e92adc-ec36-4fa4-a837-5cdf57e0c31b\" class=\"colab-df-container\">\n",
              "    <div>\n",
              "<style scoped>\n",
              "    .dataframe tbody tr th:only-of-type {\n",
              "        vertical-align: middle;\n",
              "    }\n",
              "\n",
              "    .dataframe tbody tr th {\n",
              "        vertical-align: top;\n",
              "    }\n",
              "\n",
              "    .dataframe thead th {\n",
              "        text-align: right;\n",
              "    }\n",
              "</style>\n",
              "<table border=\"1\" class=\"dataframe\">\n",
              "  <thead>\n",
              "    <tr style=\"text-align: right;\">\n",
              "      <th></th>\n",
              "      <th>client_id</th>\n",
              "      <th>gender</th>\n",
              "      <th>age</th>\n",
              "      <th>marital_status</th>\n",
              "      <th>job_position</th>\n",
              "      <th>credit_sum</th>\n",
              "      <th>credit_month</th>\n",
              "      <th>tariff_id</th>\n",
              "      <th>score_shk</th>\n",
              "      <th>education</th>\n",
              "      <th>living_region</th>\n",
              "      <th>monthly_income</th>\n",
              "      <th>credit_count</th>\n",
              "      <th>overdue_credit_count</th>\n",
              "    </tr>\n",
              "  </thead>\n",
              "  <tbody>\n",
              "    <tr>\n",
              "      <th>0</th>\n",
              "      <td>1</td>\n",
              "      <td>M</td>\n",
              "      <td>25</td>\n",
              "      <td>UNM</td>\n",
              "      <td>SPC</td>\n",
              "      <td>26389.0</td>\n",
              "      <td>10</td>\n",
              "      <td>1.32</td>\n",
              "      <td>0.584105</td>\n",
              "      <td>SCH</td>\n",
              "      <td>ОБЛ КУРСКАЯ</td>\n",
              "      <td>35000.0</td>\n",
              "      <td>2.0</td>\n",
              "      <td>0.0</td>\n",
              "    </tr>\n",
              "    <tr>\n",
              "      <th>1</th>\n",
              "      <td>2</td>\n",
              "      <td>F</td>\n",
              "      <td>37</td>\n",
              "      <td>MAR</td>\n",
              "      <td>SPC</td>\n",
              "      <td>19588.0</td>\n",
              "      <td>12</td>\n",
              "      <td>1.43</td>\n",
              "      <td>0.718935</td>\n",
              "      <td>SCH</td>\n",
              "      <td>РЕСПУБЛИКА ТАТАРСТАН</td>\n",
              "      <td>15000.0</td>\n",
              "      <td>0.0</td>\n",
              "      <td>0.0</td>\n",
              "    </tr>\n",
              "    <tr>\n",
              "      <th>2</th>\n",
              "      <td>3</td>\n",
              "      <td>F</td>\n",
              "      <td>28</td>\n",
              "      <td>UNM</td>\n",
              "      <td>SPC</td>\n",
              "      <td>53669.0</td>\n",
              "      <td>18</td>\n",
              "      <td>1.10</td>\n",
              "      <td>0.586015</td>\n",
              "      <td>GRD</td>\n",
              "      <td>МОСКВА Г</td>\n",
              "      <td>70000.0</td>\n",
              "      <td>4.0</td>\n",
              "      <td>0.0</td>\n",
              "    </tr>\n",
              "    <tr>\n",
              "      <th>3</th>\n",
              "      <td>4</td>\n",
              "      <td>M</td>\n",
              "      <td>34</td>\n",
              "      <td>MAR</td>\n",
              "      <td>SPC</td>\n",
              "      <td>26349.0</td>\n",
              "      <td>10</td>\n",
              "      <td>1.43</td>\n",
              "      <td>0.655703</td>\n",
              "      <td>SCH</td>\n",
              "      <td>СВЕРДЛОВСКАЯ ОБЛАСТЬ</td>\n",
              "      <td>42500.0</td>\n",
              "      <td>4.0</td>\n",
              "      <td>0.0</td>\n",
              "    </tr>\n",
              "    <tr>\n",
              "      <th>4</th>\n",
              "      <td>5</td>\n",
              "      <td>F</td>\n",
              "      <td>43</td>\n",
              "      <td>MAR</td>\n",
              "      <td>UMN</td>\n",
              "      <td>11589.0</td>\n",
              "      <td>10</td>\n",
              "      <td>1.10</td>\n",
              "      <td>0.271893</td>\n",
              "      <td>GRD</td>\n",
              "      <td>РЯЗАНСКАЯ ОБЛАСТЬ</td>\n",
              "      <td>20000.0</td>\n",
              "      <td>3.0</td>\n",
              "      <td>0.0</td>\n",
              "    </tr>\n",
              "  </tbody>\n",
              "</table>\n",
              "</div>\n",
              "    <div class=\"colab-df-buttons\">\n",
              "\n",
              "  <div class=\"colab-df-container\">\n",
              "    <button class=\"colab-df-convert\" onclick=\"convertToInteractive('df-40e92adc-ec36-4fa4-a837-5cdf57e0c31b')\"\n",
              "            title=\"Convert this dataframe to an interactive table.\"\n",
              "            style=\"display:none;\">\n",
              "\n",
              "  <svg xmlns=\"http://www.w3.org/2000/svg\" height=\"24px\" viewBox=\"0 -960 960 960\">\n",
              "    <path d=\"M120-120v-720h720v720H120Zm60-500h600v-160H180v160Zm220 220h160v-160H400v160Zm0 220h160v-160H400v160ZM180-400h160v-160H180v160Zm440 0h160v-160H620v160ZM180-180h160v-160H180v160Zm440 0h160v-160H620v160Z\"/>\n",
              "  </svg>\n",
              "    </button>\n",
              "\n",
              "  <style>\n",
              "    .colab-df-container {\n",
              "      display:flex;\n",
              "      gap: 12px;\n",
              "    }\n",
              "\n",
              "    .colab-df-convert {\n",
              "      background-color: #E8F0FE;\n",
              "      border: none;\n",
              "      border-radius: 50%;\n",
              "      cursor: pointer;\n",
              "      display: none;\n",
              "      fill: #1967D2;\n",
              "      height: 32px;\n",
              "      padding: 0 0 0 0;\n",
              "      width: 32px;\n",
              "    }\n",
              "\n",
              "    .colab-df-convert:hover {\n",
              "      background-color: #E2EBFA;\n",
              "      box-shadow: 0px 1px 2px rgba(60, 64, 67, 0.3), 0px 1px 3px 1px rgba(60, 64, 67, 0.15);\n",
              "      fill: #174EA6;\n",
              "    }\n",
              "\n",
              "    .colab-df-buttons div {\n",
              "      margin-bottom: 4px;\n",
              "    }\n",
              "\n",
              "    [theme=dark] .colab-df-convert {\n",
              "      background-color: #3B4455;\n",
              "      fill: #D2E3FC;\n",
              "    }\n",
              "\n",
              "    [theme=dark] .colab-df-convert:hover {\n",
              "      background-color: #434B5C;\n",
              "      box-shadow: 0px 1px 3px 1px rgba(0, 0, 0, 0.15);\n",
              "      filter: drop-shadow(0px 1px 2px rgba(0, 0, 0, 0.3));\n",
              "      fill: #FFFFFF;\n",
              "    }\n",
              "  </style>\n",
              "\n",
              "    <script>\n",
              "      const buttonEl =\n",
              "        document.querySelector('#df-40e92adc-ec36-4fa4-a837-5cdf57e0c31b button.colab-df-convert');\n",
              "      buttonEl.style.display =\n",
              "        google.colab.kernel.accessAllowed ? 'block' : 'none';\n",
              "\n",
              "      async function convertToInteractive(key) {\n",
              "        const element = document.querySelector('#df-40e92adc-ec36-4fa4-a837-5cdf57e0c31b');\n",
              "        const dataTable =\n",
              "          await google.colab.kernel.invokeFunction('convertToInteractive',\n",
              "                                                    [key], {});\n",
              "        if (!dataTable) return;\n",
              "\n",
              "        const docLinkHtml = 'Like what you see? Visit the ' +\n",
              "          '<a target=\"_blank\" href=https://colab.research.google.com/notebooks/data_table.ipynb>data table notebook</a>'\n",
              "          + ' to learn more about interactive tables.';\n",
              "        element.innerHTML = '';\n",
              "        dataTable['output_type'] = 'display_data';\n",
              "        await google.colab.output.renderOutput(dataTable, element);\n",
              "        const docLink = document.createElement('div');\n",
              "        docLink.innerHTML = docLinkHtml;\n",
              "        element.appendChild(docLink);\n",
              "      }\n",
              "    </script>\n",
              "  </div>\n",
              "\n",
              "\n",
              "<div id=\"df-a6c4e505-5bfe-4a8d-82f4-fb7bcce4504d\">\n",
              "  <button class=\"colab-df-quickchart\" onclick=\"quickchart('df-a6c4e505-5bfe-4a8d-82f4-fb7bcce4504d')\"\n",
              "            title=\"Suggest charts.\"\n",
              "            style=\"display:none;\">\n",
              "\n",
              "<svg xmlns=\"http://www.w3.org/2000/svg\" height=\"24px\"viewBox=\"0 0 24 24\"\n",
              "     width=\"24px\">\n",
              "    <g>\n",
              "        <path d=\"M19 3H5c-1.1 0-2 .9-2 2v14c0 1.1.9 2 2 2h14c1.1 0 2-.9 2-2V5c0-1.1-.9-2-2-2zM9 17H7v-7h2v7zm4 0h-2V7h2v10zm4 0h-2v-4h2v4z\"/>\n",
              "    </g>\n",
              "</svg>\n",
              "  </button>\n",
              "\n",
              "<style>\n",
              "  .colab-df-quickchart {\n",
              "      --bg-color: #E8F0FE;\n",
              "      --fill-color: #1967D2;\n",
              "      --hover-bg-color: #E2EBFA;\n",
              "      --hover-fill-color: #174EA6;\n",
              "      --disabled-fill-color: #AAA;\n",
              "      --disabled-bg-color: #DDD;\n",
              "  }\n",
              "\n",
              "  [theme=dark] .colab-df-quickchart {\n",
              "      --bg-color: #3B4455;\n",
              "      --fill-color: #D2E3FC;\n",
              "      --hover-bg-color: #434B5C;\n",
              "      --hover-fill-color: #FFFFFF;\n",
              "      --disabled-bg-color: #3B4455;\n",
              "      --disabled-fill-color: #666;\n",
              "  }\n",
              "\n",
              "  .colab-df-quickchart {\n",
              "    background-color: var(--bg-color);\n",
              "    border: none;\n",
              "    border-radius: 50%;\n",
              "    cursor: pointer;\n",
              "    display: none;\n",
              "    fill: var(--fill-color);\n",
              "    height: 32px;\n",
              "    padding: 0;\n",
              "    width: 32px;\n",
              "  }\n",
              "\n",
              "  .colab-df-quickchart:hover {\n",
              "    background-color: var(--hover-bg-color);\n",
              "    box-shadow: 0 1px 2px rgba(60, 64, 67, 0.3), 0 1px 3px 1px rgba(60, 64, 67, 0.15);\n",
              "    fill: var(--button-hover-fill-color);\n",
              "  }\n",
              "\n",
              "  .colab-df-quickchart-complete:disabled,\n",
              "  .colab-df-quickchart-complete:disabled:hover {\n",
              "    background-color: var(--disabled-bg-color);\n",
              "    fill: var(--disabled-fill-color);\n",
              "    box-shadow: none;\n",
              "  }\n",
              "\n",
              "  .colab-df-spinner {\n",
              "    border: 2px solid var(--fill-color);\n",
              "    border-color: transparent;\n",
              "    border-bottom-color: var(--fill-color);\n",
              "    animation:\n",
              "      spin 1s steps(1) infinite;\n",
              "  }\n",
              "\n",
              "  @keyframes spin {\n",
              "    0% {\n",
              "      border-color: transparent;\n",
              "      border-bottom-color: var(--fill-color);\n",
              "      border-left-color: var(--fill-color);\n",
              "    }\n",
              "    20% {\n",
              "      border-color: transparent;\n",
              "      border-left-color: var(--fill-color);\n",
              "      border-top-color: var(--fill-color);\n",
              "    }\n",
              "    30% {\n",
              "      border-color: transparent;\n",
              "      border-left-color: var(--fill-color);\n",
              "      border-top-color: var(--fill-color);\n",
              "      border-right-color: var(--fill-color);\n",
              "    }\n",
              "    40% {\n",
              "      border-color: transparent;\n",
              "      border-right-color: var(--fill-color);\n",
              "      border-top-color: var(--fill-color);\n",
              "    }\n",
              "    60% {\n",
              "      border-color: transparent;\n",
              "      border-right-color: var(--fill-color);\n",
              "    }\n",
              "    80% {\n",
              "      border-color: transparent;\n",
              "      border-right-color: var(--fill-color);\n",
              "      border-bottom-color: var(--fill-color);\n",
              "    }\n",
              "    90% {\n",
              "      border-color: transparent;\n",
              "      border-bottom-color: var(--fill-color);\n",
              "    }\n",
              "  }\n",
              "</style>\n",
              "\n",
              "  <script>\n",
              "    async function quickchart(key) {\n",
              "      const quickchartButtonEl =\n",
              "        document.querySelector('#' + key + ' button');\n",
              "      quickchartButtonEl.disabled = true;  // To prevent multiple clicks.\n",
              "      quickchartButtonEl.classList.add('colab-df-spinner');\n",
              "      try {\n",
              "        const charts = await google.colab.kernel.invokeFunction(\n",
              "            'suggestCharts', [key], {});\n",
              "      } catch (error) {\n",
              "        console.error('Error during call to suggestCharts:', error);\n",
              "      }\n",
              "      quickchartButtonEl.classList.remove('colab-df-spinner');\n",
              "      quickchartButtonEl.classList.add('colab-df-quickchart-complete');\n",
              "    }\n",
              "    (() => {\n",
              "      let quickchartButtonEl =\n",
              "        document.querySelector('#df-a6c4e505-5bfe-4a8d-82f4-fb7bcce4504d button');\n",
              "      quickchartButtonEl.style.display =\n",
              "        google.colab.kernel.accessAllowed ? 'block' : 'none';\n",
              "    })();\n",
              "  </script>\n",
              "</div>\n",
              "    </div>\n",
              "  </div>\n"
            ]
          },
          "metadata": {},
          "execution_count": 8
        }
      ]
    },
    {
      "cell_type": "markdown",
      "source": [
        "Посмотрим, в каких колонках есть пропуски в тренировочных данных"
      ],
      "metadata": {
        "id": "xYE1xtdkxf5M"
      }
    },
    {
      "cell_type": "code",
      "source": [
        "train_data.isna().any()"
      ],
      "metadata": {
        "id": "nMSdIJagGJbx",
        "colab": {
          "base_uri": "https://localhost:8080/"
        },
        "outputId": "c62f953e-f159-4db8-d8ac-8b0e0cf1eda4"
      },
      "execution_count": 9,
      "outputs": [
        {
          "output_type": "execute_result",
          "data": {
            "text/plain": [
              "client_id               False\n",
              "gender                  False\n",
              "age                     False\n",
              "marital_status          False\n",
              "job_position            False\n",
              "credit_sum              False\n",
              "credit_month            False\n",
              "tariff_id               False\n",
              "score_shk               False\n",
              "education               False\n",
              "living_region            True\n",
              "monthly_income          False\n",
              "credit_count             True\n",
              "overdue_credit_count     True\n",
              "dtype: bool"
            ]
          },
          "metadata": {},
          "execution_count": 9
        }
      ]
    },
    {
      "cell_type": "markdown",
      "source": [
        "Посмотрим также, какие пропуски есть в тестовых данных:"
      ],
      "metadata": {
        "id": "FA0yIL1GJA8f"
      }
    },
    {
      "cell_type": "code",
      "source": [
        "test_data.isna().any()"
      ],
      "metadata": {
        "id": "g_QwKBDmGvwT",
        "colab": {
          "base_uri": "https://localhost:8080/"
        },
        "outputId": "b1ce8ca0-fb83-4573-d4dc-3a59291f783f"
      },
      "execution_count": 10,
      "outputs": [
        {
          "output_type": "execute_result",
          "data": {
            "text/plain": [
              "client_id               False\n",
              "gender                  False\n",
              "age                     False\n",
              "marital_status          False\n",
              "job_position            False\n",
              "credit_sum              False\n",
              "credit_month            False\n",
              "tariff_id               False\n",
              "score_shk               False\n",
              "education               False\n",
              "living_region            True\n",
              "monthly_income           True\n",
              "credit_count             True\n",
              "overdue_credit_count     True\n",
              "dtype: bool"
            ]
          },
          "metadata": {},
          "execution_count": 10
        }
      ]
    },
    {
      "cell_type": "markdown",
      "source": [
        "Видим, что в тестовой части есть пропуски в колонке monthly_income, а в тренировочной части в ней пропусков нет. Нам нужно будет понять, как мы будем заполнять пропуски в этой колонке."
      ],
      "metadata": {
        "id": "GO6WLeD8JEWJ"
      }
    },
    {
      "cell_type": "markdown",
      "source": [
        "**Внимание**: важно помнить, что иногда в данных бывают пропуски, которые pandas не ловит. Например, когда пропуск в категориальной колонке \"job_position\", и выражается он тем, что вместо значения стоит пустая строка '' или пробел ' '. Такое pandas не отловит."
      ],
      "metadata": {
        "id": "Kch3GcGPMCp0"
      }
    },
    {
      "cell_type": "markdown",
      "source": [
        "**Как можно заполнять пропуски в колонках?**\n",
        "\n"
      ],
      "metadata": {
        "id": "wIwaQ2z-JTzy"
      }
    },
    {
      "cell_type": "markdown",
      "source": [
        "#### Варианты заполнения пропусков"
      ],
      "metadata": {
        "id": "KK3jnZBkKGE6"
      }
    },
    {
      "cell_type": "markdown",
      "source": [
        "- Заполнить пропуски некоторой статистикой по данным (среднее/медиана/0/...). Поможет [SimpleImputer](https://scikit-learn.org/stable/modules/generated/sklearn.impute.SimpleImputer.html#sklearn.impute.SimpleImputer) из Sklearn;\n",
        "\n",
        "    **Вопрос**: почему медиана предпочтительнее среднего?\n",
        "\n",
        "- Использовать более сложные стратегии. Например, [IterativeImputer](https://scikit-learn.org/stable/modules/generated/sklearn.impute.IterativeImputer.html#sklearn.impute.IterativeImputer) или  [KNNImputer](https://scikit-learn.org/stable/modules/generated/sklearn.impute.KNNImputer.html);\n",
        "\n",
        "- Добавить значение \"пропуск\" на место пропусков. Поможет [MissingIndicator](https://scikit-learn.org/stable/modules/generated/sklearn.impute.MissingIndicator.html#sklearn.impute.MissingIndicator) из Sklearn;\n",
        "- А иногда вообще бывает так, что из тренировочных данных лучше удалить строки, где много пропусков. Логика такая: если об объекте известно мало, то полезной информации для модели этот объект не несет. Обратите внимание, что из тестовых данных никакие строки удалять нельзя!\n",
        "- Вообще удалить признак с пропусками. Может быть логично, если пропусков слишком много;"
      ],
      "metadata": {
        "id": "wcPta6EKLwxR"
      }
    },
    {
      "cell_type": "markdown",
      "source": [
        "#### Заполнение пропусков в наших данных"
      ],
      "metadata": {
        "id": "NijO5JK2K_qx"
      }
    },
    {
      "cell_type": "markdown",
      "source": [
        "Посмотрим, сколько пропущенных значений в колонках credit_count и overdue_credit_count:"
      ],
      "metadata": {
        "id": "Gjx5hEcFyfsz"
      }
    },
    {
      "cell_type": "code",
      "source": [
        "train_data['credit_count'].info()"
      ],
      "metadata": {
        "id": "lNhMykT5LEd6",
        "colab": {
          "base_uri": "https://localhost:8080/"
        },
        "outputId": "25db6590-73fc-4078-afaf-95f3cfe82fad"
      },
      "execution_count": 11,
      "outputs": [
        {
          "output_type": "stream",
          "name": "stdout",
          "text": [
            "<class 'pandas.core.series.Series'>\n",
            "RangeIndex: 119518 entries, 0 to 119517\n",
            "Series name: credit_count\n",
            "Non-Null Count   Dtype  \n",
            "--------------   -----  \n",
            "113032 non-null  float64\n",
            "dtypes: float64(1)\n",
            "memory usage: 933.9 KB\n"
          ]
        }
      ]
    },
    {
      "cell_type": "code",
      "source": [
        "np.unique(train_data['credit_count'], return_counts=True)"
      ],
      "metadata": {
        "id": "0XTrKSWhLOsH",
        "colab": {
          "base_uri": "https://localhost:8080/"
        },
        "outputId": "6919e023-eb4a-4cbf-afda-6586a71948c6"
      },
      "execution_count": 12,
      "outputs": [
        {
          "output_type": "execute_result",
          "data": {
            "text/plain": [
              "(array([ 0.,  1.,  2.,  3.,  4.,  5.,  6.,  7.,  8.,  9., 10., 11., 12.,\n",
              "        13., 14., 15., 16., 17., 18., 19., nan]),\n",
              " array([18219, 31714, 25799, 16707,  9826,  5285,  2760,  1345,   707,\n",
              "          326,   141,    90,    56,    25,    12,    10,     2,     4,\n",
              "            1,     3,  6486]))"
            ]
          },
          "metadata": {},
          "execution_count": 12
        }
      ]
    },
    {
      "cell_type": "markdown",
      "source": [
        "Заполним пропуск в credit_count медианой:"
      ],
      "metadata": {
        "id": "pYLak5i9PDQl"
      }
    },
    {
      "cell_type": "code",
      "source": [
        "# заполнение пропусков статистикой вручную\n",
        "\n",
        "# median_value_credit_count = np.median(train_data['credit_count'].dropna())\n",
        "# train_data['credit_count'].fillna(median_value_credit_count)"
      ],
      "metadata": {
        "id": "J2OL_ddULVZO"
      },
      "execution_count": 13,
      "outputs": []
    },
    {
      "cell_type": "code",
      "source": [
        "from sklearn.impute import SimpleImputer\n",
        "\n",
        "simple_imputer = SimpleImputer(missing_values=np.nan, strategy='median')\n",
        "simple_imputer.fit(train_data[['credit_count']])\n",
        "train_data['credit_count'] = simple_imputer.transform(train_data[['credit_count']])"
      ],
      "metadata": {
        "id": "LiiiZakBMcqD"
      },
      "execution_count": 14,
      "outputs": []
    },
    {
      "cell_type": "code",
      "source": [
        "train_data['credit_count'].isna().any()"
      ],
      "metadata": {
        "id": "ic8eW0ExMruo",
        "colab": {
          "base_uri": "https://localhost:8080/"
        },
        "outputId": "1218b4cc-5977-4b3a-90e0-425ad3683a6d"
      },
      "execution_count": 15,
      "outputs": [
        {
          "output_type": "execute_result",
          "data": {
            "text/plain": [
              "False"
            ]
          },
          "metadata": {},
          "execution_count": 15
        }
      ]
    },
    {
      "cell_type": "code",
      "source": [
        "train_data['age'].dtype"
      ],
      "metadata": {
        "id": "lezMrFCgN6gc",
        "colab": {
          "base_uri": "https://localhost:8080/"
        },
        "outputId": "78770bcb-f725-478a-c4c8-4dbe0bc083d8"
      },
      "execution_count": 16,
      "outputs": [
        {
          "output_type": "execute_result",
          "data": {
            "text/plain": [
              "dtype('int64')"
            ]
          },
          "metadata": {},
          "execution_count": 16
        }
      ]
    },
    {
      "cell_type": "code",
      "source": [
        "numeric_columns = [column for column in train_data.columns if train_data[column].dtype != 'O']\n",
        "numeric_columns"
      ],
      "metadata": {
        "id": "k62fPZeaNa9d",
        "colab": {
          "base_uri": "https://localhost:8080/"
        },
        "outputId": "4f99f10d-7440-47d7-8b1b-6d99762ca1f9"
      },
      "execution_count": 17,
      "outputs": [
        {
          "output_type": "execute_result",
          "data": {
            "text/plain": [
              "['client_id',\n",
              " 'age',\n",
              " 'credit_sum',\n",
              " 'credit_month',\n",
              " 'tariff_id',\n",
              " 'score_shk',\n",
              " 'monthly_income',\n",
              " 'credit_count',\n",
              " 'overdue_credit_count']"
            ]
          },
          "metadata": {},
          "execution_count": 17
        }
      ]
    },
    {
      "cell_type": "markdown",
      "source": [
        "Заполним пропуск в overdue_credit_count с помощью KNNImputer:"
      ],
      "metadata": {
        "id": "H_xnctoLPJVz"
      }
    },
    {
      "cell_type": "code",
      "source": [
        "from sklearn.impute import KNNImputer\n",
        "\n",
        "knn_imputer = KNNImputer(n_neighbors=2)\n",
        "knn_imputer.fit(train_data[numeric_columns])\n",
        "transformed_overdue_credit_count = knn_imputer.transform(train_data[numeric_columns])[:, 8]\n",
        "train_data['overdue_credit_count'] = transformed_overdue_credit_count"
      ],
      "metadata": {
        "id": "l99JODFsM2ab"
      },
      "execution_count": 18,
      "outputs": []
    },
    {
      "cell_type": "code",
      "source": [
        "train_data['overdue_credit_count'].isna().any()"
      ],
      "metadata": {
        "id": "i4DyCysCOIpB",
        "colab": {
          "base_uri": "https://localhost:8080/"
        },
        "outputId": "c915e0fc-6449-4f4b-cb05-ec7e6ca750a4"
      },
      "execution_count": 19,
      "outputs": [
        {
          "output_type": "execute_result",
          "data": {
            "text/plain": [
              "False"
            ]
          },
          "metadata": {},
          "execution_count": 19
        }
      ]
    },
    {
      "cell_type": "markdown",
      "source": [
        "### Обработка категориальных признаков"
      ],
      "metadata": {
        "id": "px4t9DyjPkul"
      }
    },
    {
      "cell_type": "code",
      "source": [
        "train_data.head()"
      ],
      "metadata": {
        "id": "kO8jVcXfPnoj",
        "colab": {
          "base_uri": "https://localhost:8080/",
          "height": 278
        },
        "outputId": "7f221d61-6b70-4de3-a6e9-9e1a2d21b86a"
      },
      "execution_count": 20,
      "outputs": [
        {
          "output_type": "execute_result",
          "data": {
            "text/plain": [
              "   client_id gender  age marital_status job_position  credit_sum  \\\n",
              "0          1      M   25            UNM          SPC     26389.0   \n",
              "1          2      F   37            MAR          SPC     19588.0   \n",
              "2          3      F   28            UNM          SPC     53669.0   \n",
              "3          4      M   34            MAR          SPC     26349.0   \n",
              "4          5      F   43            MAR          UMN     11589.0   \n",
              "\n",
              "   credit_month  tariff_id  score_shk education         living_region  \\\n",
              "0            10       1.32   0.584105       SCH           ОБЛ КУРСКАЯ   \n",
              "1            12       1.43   0.718935       SCH  РЕСПУБЛИКА ТАТАРСТАН   \n",
              "2            18       1.10   0.586015       GRD              МОСКВА Г   \n",
              "3            10       1.43   0.655703       SCH  СВЕРДЛОВСКАЯ ОБЛАСТЬ   \n",
              "4            10       1.10   0.271893       GRD     РЯЗАНСКАЯ ОБЛАСТЬ   \n",
              "\n",
              "   monthly_income  credit_count  overdue_credit_count  \n",
              "0         35000.0           2.0                   0.0  \n",
              "1         15000.0           0.0                   0.0  \n",
              "2         70000.0           4.0                   0.0  \n",
              "3         42500.0           4.0                   0.0  \n",
              "4         20000.0           3.0                   0.0  "
            ],
            "text/html": [
              "\n",
              "  <div id=\"df-be43efbb-fed8-4d8c-9214-b888eb8d559d\" class=\"colab-df-container\">\n",
              "    <div>\n",
              "<style scoped>\n",
              "    .dataframe tbody tr th:only-of-type {\n",
              "        vertical-align: middle;\n",
              "    }\n",
              "\n",
              "    .dataframe tbody tr th {\n",
              "        vertical-align: top;\n",
              "    }\n",
              "\n",
              "    .dataframe thead th {\n",
              "        text-align: right;\n",
              "    }\n",
              "</style>\n",
              "<table border=\"1\" class=\"dataframe\">\n",
              "  <thead>\n",
              "    <tr style=\"text-align: right;\">\n",
              "      <th></th>\n",
              "      <th>client_id</th>\n",
              "      <th>gender</th>\n",
              "      <th>age</th>\n",
              "      <th>marital_status</th>\n",
              "      <th>job_position</th>\n",
              "      <th>credit_sum</th>\n",
              "      <th>credit_month</th>\n",
              "      <th>tariff_id</th>\n",
              "      <th>score_shk</th>\n",
              "      <th>education</th>\n",
              "      <th>living_region</th>\n",
              "      <th>monthly_income</th>\n",
              "      <th>credit_count</th>\n",
              "      <th>overdue_credit_count</th>\n",
              "    </tr>\n",
              "  </thead>\n",
              "  <tbody>\n",
              "    <tr>\n",
              "      <th>0</th>\n",
              "      <td>1</td>\n",
              "      <td>M</td>\n",
              "      <td>25</td>\n",
              "      <td>UNM</td>\n",
              "      <td>SPC</td>\n",
              "      <td>26389.0</td>\n",
              "      <td>10</td>\n",
              "      <td>1.32</td>\n",
              "      <td>0.584105</td>\n",
              "      <td>SCH</td>\n",
              "      <td>ОБЛ КУРСКАЯ</td>\n",
              "      <td>35000.0</td>\n",
              "      <td>2.0</td>\n",
              "      <td>0.0</td>\n",
              "    </tr>\n",
              "    <tr>\n",
              "      <th>1</th>\n",
              "      <td>2</td>\n",
              "      <td>F</td>\n",
              "      <td>37</td>\n",
              "      <td>MAR</td>\n",
              "      <td>SPC</td>\n",
              "      <td>19588.0</td>\n",
              "      <td>12</td>\n",
              "      <td>1.43</td>\n",
              "      <td>0.718935</td>\n",
              "      <td>SCH</td>\n",
              "      <td>РЕСПУБЛИКА ТАТАРСТАН</td>\n",
              "      <td>15000.0</td>\n",
              "      <td>0.0</td>\n",
              "      <td>0.0</td>\n",
              "    </tr>\n",
              "    <tr>\n",
              "      <th>2</th>\n",
              "      <td>3</td>\n",
              "      <td>F</td>\n",
              "      <td>28</td>\n",
              "      <td>UNM</td>\n",
              "      <td>SPC</td>\n",
              "      <td>53669.0</td>\n",
              "      <td>18</td>\n",
              "      <td>1.10</td>\n",
              "      <td>0.586015</td>\n",
              "      <td>GRD</td>\n",
              "      <td>МОСКВА Г</td>\n",
              "      <td>70000.0</td>\n",
              "      <td>4.0</td>\n",
              "      <td>0.0</td>\n",
              "    </tr>\n",
              "    <tr>\n",
              "      <th>3</th>\n",
              "      <td>4</td>\n",
              "      <td>M</td>\n",
              "      <td>34</td>\n",
              "      <td>MAR</td>\n",
              "      <td>SPC</td>\n",
              "      <td>26349.0</td>\n",
              "      <td>10</td>\n",
              "      <td>1.43</td>\n",
              "      <td>0.655703</td>\n",
              "      <td>SCH</td>\n",
              "      <td>СВЕРДЛОВСКАЯ ОБЛАСТЬ</td>\n",
              "      <td>42500.0</td>\n",
              "      <td>4.0</td>\n",
              "      <td>0.0</td>\n",
              "    </tr>\n",
              "    <tr>\n",
              "      <th>4</th>\n",
              "      <td>5</td>\n",
              "      <td>F</td>\n",
              "      <td>43</td>\n",
              "      <td>MAR</td>\n",
              "      <td>UMN</td>\n",
              "      <td>11589.0</td>\n",
              "      <td>10</td>\n",
              "      <td>1.10</td>\n",
              "      <td>0.271893</td>\n",
              "      <td>GRD</td>\n",
              "      <td>РЯЗАНСКАЯ ОБЛАСТЬ</td>\n",
              "      <td>20000.0</td>\n",
              "      <td>3.0</td>\n",
              "      <td>0.0</td>\n",
              "    </tr>\n",
              "  </tbody>\n",
              "</table>\n",
              "</div>\n",
              "    <div class=\"colab-df-buttons\">\n",
              "\n",
              "  <div class=\"colab-df-container\">\n",
              "    <button class=\"colab-df-convert\" onclick=\"convertToInteractive('df-be43efbb-fed8-4d8c-9214-b888eb8d559d')\"\n",
              "            title=\"Convert this dataframe to an interactive table.\"\n",
              "            style=\"display:none;\">\n",
              "\n",
              "  <svg xmlns=\"http://www.w3.org/2000/svg\" height=\"24px\" viewBox=\"0 -960 960 960\">\n",
              "    <path d=\"M120-120v-720h720v720H120Zm60-500h600v-160H180v160Zm220 220h160v-160H400v160Zm0 220h160v-160H400v160ZM180-400h160v-160H180v160Zm440 0h160v-160H620v160ZM180-180h160v-160H180v160Zm440 0h160v-160H620v160Z\"/>\n",
              "  </svg>\n",
              "    </button>\n",
              "\n",
              "  <style>\n",
              "    .colab-df-container {\n",
              "      display:flex;\n",
              "      gap: 12px;\n",
              "    }\n",
              "\n",
              "    .colab-df-convert {\n",
              "      background-color: #E8F0FE;\n",
              "      border: none;\n",
              "      border-radius: 50%;\n",
              "      cursor: pointer;\n",
              "      display: none;\n",
              "      fill: #1967D2;\n",
              "      height: 32px;\n",
              "      padding: 0 0 0 0;\n",
              "      width: 32px;\n",
              "    }\n",
              "\n",
              "    .colab-df-convert:hover {\n",
              "      background-color: #E2EBFA;\n",
              "      box-shadow: 0px 1px 2px rgba(60, 64, 67, 0.3), 0px 1px 3px 1px rgba(60, 64, 67, 0.15);\n",
              "      fill: #174EA6;\n",
              "    }\n",
              "\n",
              "    .colab-df-buttons div {\n",
              "      margin-bottom: 4px;\n",
              "    }\n",
              "\n",
              "    [theme=dark] .colab-df-convert {\n",
              "      background-color: #3B4455;\n",
              "      fill: #D2E3FC;\n",
              "    }\n",
              "\n",
              "    [theme=dark] .colab-df-convert:hover {\n",
              "      background-color: #434B5C;\n",
              "      box-shadow: 0px 1px 3px 1px rgba(0, 0, 0, 0.15);\n",
              "      filter: drop-shadow(0px 1px 2px rgba(0, 0, 0, 0.3));\n",
              "      fill: #FFFFFF;\n",
              "    }\n",
              "  </style>\n",
              "\n",
              "    <script>\n",
              "      const buttonEl =\n",
              "        document.querySelector('#df-be43efbb-fed8-4d8c-9214-b888eb8d559d button.colab-df-convert');\n",
              "      buttonEl.style.display =\n",
              "        google.colab.kernel.accessAllowed ? 'block' : 'none';\n",
              "\n",
              "      async function convertToInteractive(key) {\n",
              "        const element = document.querySelector('#df-be43efbb-fed8-4d8c-9214-b888eb8d559d');\n",
              "        const dataTable =\n",
              "          await google.colab.kernel.invokeFunction('convertToInteractive',\n",
              "                                                    [key], {});\n",
              "        if (!dataTable) return;\n",
              "\n",
              "        const docLinkHtml = 'Like what you see? Visit the ' +\n",
              "          '<a target=\"_blank\" href=https://colab.research.google.com/notebooks/data_table.ipynb>data table notebook</a>'\n",
              "          + ' to learn more about interactive tables.';\n",
              "        element.innerHTML = '';\n",
              "        dataTable['output_type'] = 'display_data';\n",
              "        await google.colab.output.renderOutput(dataTable, element);\n",
              "        const docLink = document.createElement('div');\n",
              "        docLink.innerHTML = docLinkHtml;\n",
              "        element.appendChild(docLink);\n",
              "      }\n",
              "    </script>\n",
              "  </div>\n",
              "\n",
              "\n",
              "<div id=\"df-bd410a84-8b2d-459d-9bb8-0c55142ce9eb\">\n",
              "  <button class=\"colab-df-quickchart\" onclick=\"quickchart('df-bd410a84-8b2d-459d-9bb8-0c55142ce9eb')\"\n",
              "            title=\"Suggest charts.\"\n",
              "            style=\"display:none;\">\n",
              "\n",
              "<svg xmlns=\"http://www.w3.org/2000/svg\" height=\"24px\"viewBox=\"0 0 24 24\"\n",
              "     width=\"24px\">\n",
              "    <g>\n",
              "        <path d=\"M19 3H5c-1.1 0-2 .9-2 2v14c0 1.1.9 2 2 2h14c1.1 0 2-.9 2-2V5c0-1.1-.9-2-2-2zM9 17H7v-7h2v7zm4 0h-2V7h2v10zm4 0h-2v-4h2v4z\"/>\n",
              "    </g>\n",
              "</svg>\n",
              "  </button>\n",
              "\n",
              "<style>\n",
              "  .colab-df-quickchart {\n",
              "      --bg-color: #E8F0FE;\n",
              "      --fill-color: #1967D2;\n",
              "      --hover-bg-color: #E2EBFA;\n",
              "      --hover-fill-color: #174EA6;\n",
              "      --disabled-fill-color: #AAA;\n",
              "      --disabled-bg-color: #DDD;\n",
              "  }\n",
              "\n",
              "  [theme=dark] .colab-df-quickchart {\n",
              "      --bg-color: #3B4455;\n",
              "      --fill-color: #D2E3FC;\n",
              "      --hover-bg-color: #434B5C;\n",
              "      --hover-fill-color: #FFFFFF;\n",
              "      --disabled-bg-color: #3B4455;\n",
              "      --disabled-fill-color: #666;\n",
              "  }\n",
              "\n",
              "  .colab-df-quickchart {\n",
              "    background-color: var(--bg-color);\n",
              "    border: none;\n",
              "    border-radius: 50%;\n",
              "    cursor: pointer;\n",
              "    display: none;\n",
              "    fill: var(--fill-color);\n",
              "    height: 32px;\n",
              "    padding: 0;\n",
              "    width: 32px;\n",
              "  }\n",
              "\n",
              "  .colab-df-quickchart:hover {\n",
              "    background-color: var(--hover-bg-color);\n",
              "    box-shadow: 0 1px 2px rgba(60, 64, 67, 0.3), 0 1px 3px 1px rgba(60, 64, 67, 0.15);\n",
              "    fill: var(--button-hover-fill-color);\n",
              "  }\n",
              "\n",
              "  .colab-df-quickchart-complete:disabled,\n",
              "  .colab-df-quickchart-complete:disabled:hover {\n",
              "    background-color: var(--disabled-bg-color);\n",
              "    fill: var(--disabled-fill-color);\n",
              "    box-shadow: none;\n",
              "  }\n",
              "\n",
              "  .colab-df-spinner {\n",
              "    border: 2px solid var(--fill-color);\n",
              "    border-color: transparent;\n",
              "    border-bottom-color: var(--fill-color);\n",
              "    animation:\n",
              "      spin 1s steps(1) infinite;\n",
              "  }\n",
              "\n",
              "  @keyframes spin {\n",
              "    0% {\n",
              "      border-color: transparent;\n",
              "      border-bottom-color: var(--fill-color);\n",
              "      border-left-color: var(--fill-color);\n",
              "    }\n",
              "    20% {\n",
              "      border-color: transparent;\n",
              "      border-left-color: var(--fill-color);\n",
              "      border-top-color: var(--fill-color);\n",
              "    }\n",
              "    30% {\n",
              "      border-color: transparent;\n",
              "      border-left-color: var(--fill-color);\n",
              "      border-top-color: var(--fill-color);\n",
              "      border-right-color: var(--fill-color);\n",
              "    }\n",
              "    40% {\n",
              "      border-color: transparent;\n",
              "      border-right-color: var(--fill-color);\n",
              "      border-top-color: var(--fill-color);\n",
              "    }\n",
              "    60% {\n",
              "      border-color: transparent;\n",
              "      border-right-color: var(--fill-color);\n",
              "    }\n",
              "    80% {\n",
              "      border-color: transparent;\n",
              "      border-right-color: var(--fill-color);\n",
              "      border-bottom-color: var(--fill-color);\n",
              "    }\n",
              "    90% {\n",
              "      border-color: transparent;\n",
              "      border-bottom-color: var(--fill-color);\n",
              "    }\n",
              "  }\n",
              "</style>\n",
              "\n",
              "  <script>\n",
              "    async function quickchart(key) {\n",
              "      const quickchartButtonEl =\n",
              "        document.querySelector('#' + key + ' button');\n",
              "      quickchartButtonEl.disabled = true;  // To prevent multiple clicks.\n",
              "      quickchartButtonEl.classList.add('colab-df-spinner');\n",
              "      try {\n",
              "        const charts = await google.colab.kernel.invokeFunction(\n",
              "            'suggestCharts', [key], {});\n",
              "      } catch (error) {\n",
              "        console.error('Error during call to suggestCharts:', error);\n",
              "      }\n",
              "      quickchartButtonEl.classList.remove('colab-df-spinner');\n",
              "      quickchartButtonEl.classList.add('colab-df-quickchart-complete');\n",
              "    }\n",
              "    (() => {\n",
              "      let quickchartButtonEl =\n",
              "        document.querySelector('#df-bd410a84-8b2d-459d-9bb8-0c55142ce9eb button');\n",
              "      quickchartButtonEl.style.display =\n",
              "        google.colab.kernel.accessAllowed ? 'block' : 'none';\n",
              "    })();\n",
              "  </script>\n",
              "</div>\n",
              "    </div>\n",
              "  </div>\n"
            ]
          },
          "metadata": {},
          "execution_count": 20
        }
      ]
    },
    {
      "cell_type": "code",
      "source": [
        "categorical_columns = [column for column in train_data.columns if train_data[column].dtype == 'O']\n",
        "categorical_columns"
      ],
      "metadata": {
        "id": "_JoISWJLPpUd",
        "colab": {
          "base_uri": "https://localhost:8080/"
        },
        "outputId": "6a14ff2d-ef3e-4dbd-c8f6-dbcdebb0c486"
      },
      "execution_count": 21,
      "outputs": [
        {
          "output_type": "execute_result",
          "data": {
            "text/plain": [
              "['gender', 'marital_status', 'job_position', 'education', 'living_region']"
            ]
          },
          "metadata": {},
          "execution_count": 21
        }
      ]
    },
    {
      "cell_type": "code",
      "source": [
        "categorical_columns = [x for x in categorical_columns if x != 'living_region']"
      ],
      "metadata": {
        "id": "FdaB4h_CSQbb"
      },
      "execution_count": 22,
      "outputs": []
    },
    {
      "cell_type": "markdown",
      "source": [
        "#### One-hot кодирование"
      ],
      "metadata": {
        "id": "UCFdUu_2T9M5"
      }
    },
    {
      "cell_type": "code",
      "source": [
        "# dummy_features = pd.get_dummies(train_data[categorical_columns])\n",
        "# dummy_features.head()"
      ],
      "metadata": {
        "id": "5sF--r1tPuxV"
      },
      "execution_count": null,
      "outputs": []
    },
    {
      "cell_type": "markdown",
      "source": [
        "One-hot кодирование с помощью OneHotEncoder из Sklearn"
      ],
      "metadata": {
        "id": "2kD3YN3TRkUq"
      }
    },
    {
      "cell_type": "code",
      "source": [
        "from sklearn.preprocessing import OneHotEncoder\n",
        "\n",
        "ohe = OneHotEncoder(drop='if_binary', sparse_output=False)\n",
        "ohe.fit(train_data[categorical_columns])\n",
        "new_category_columns = ohe.transform(train_data[categorical_columns])"
      ],
      "metadata": {
        "id": "sQ25kktuRiNg"
      },
      "execution_count": 23,
      "outputs": []
    },
    {
      "cell_type": "code",
      "source": [
        "new_category_columns"
      ],
      "metadata": {
        "colab": {
          "base_uri": "https://localhost:8080/"
        },
        "id": "INgl0EKkJ5IU",
        "outputId": "29921cb4-afe3-4221-f2a3-2f6889ddf882"
      },
      "execution_count": 25,
      "outputs": [
        {
          "output_type": "execute_result",
          "data": {
            "text/plain": [
              "array([[1., 0., 0., ..., 0., 1., 0.],\n",
              "       [0., 0., 0., ..., 0., 1., 0.],\n",
              "       [0., 0., 0., ..., 0., 0., 0.],\n",
              "       ...,\n",
              "       [0., 0., 0., ..., 0., 0., 0.],\n",
              "       [0., 0., 0., ..., 0., 0., 0.],\n",
              "       [1., 0., 0., ..., 0., 0., 0.]])"
            ]
          },
          "metadata": {},
          "execution_count": 25
        }
      ]
    },
    {
      "cell_type": "code",
      "source": [
        "ohe.get_feature_names_out()"
      ],
      "metadata": {
        "id": "62OU2rJbTWJR",
        "colab": {
          "base_uri": "https://localhost:8080/"
        },
        "outputId": "940988e1-81b1-4f05-cce0-3f572aac2183"
      },
      "execution_count": 26,
      "outputs": [
        {
          "output_type": "execute_result",
          "data": {
            "text/plain": [
              "array(['gender_M', 'marital_status_CIV', 'marital_status_DIV',\n",
              "       'marital_status_MAR', 'marital_status_UNM', 'marital_status_WID',\n",
              "       'job_position_ATP', 'job_position_BIS', 'job_position_BIU',\n",
              "       'job_position_DIR', 'job_position_HSK', 'job_position_INP',\n",
              "       'job_position_NOR', 'job_position_PNA', 'job_position_PNI',\n",
              "       'job_position_PNS', 'job_position_PNV', 'job_position_SPC',\n",
              "       'job_position_UMN', 'job_position_WOI', 'job_position_WRK',\n",
              "       'job_position_WRP', 'education_ACD', 'education_GRD',\n",
              "       'education_PGR', 'education_SCH', 'education_UGR'], dtype=object)"
            ]
          },
          "metadata": {},
          "execution_count": 26
        }
      ]
    },
    {
      "cell_type": "code",
      "source": [
        "new_train_columns = pd.DataFrame(new_category_columns, columns=ohe.get_feature_names_out())\n",
        "train_data = train_data.drop(columns=categorical_columns)\n",
        "train_data = pd.concat([train_data, new_train_columns], axis=1)\n",
        "train_data.head()"
      ],
      "metadata": {
        "id": "za3LSBCNTZE4",
        "colab": {
          "base_uri": "https://localhost:8080/",
          "height": 308
        },
        "outputId": "3e63b7c2-eb39-4ad2-cf74-77b263a36c37"
      },
      "execution_count": 27,
      "outputs": [
        {
          "output_type": "execute_result",
          "data": {
            "text/plain": [
              "   client_id  age  credit_sum  credit_month  tariff_id  score_shk  \\\n",
              "0          1   25     26389.0            10       1.32   0.584105   \n",
              "1          2   37     19588.0            12       1.43   0.718935   \n",
              "2          3   28     53669.0            18       1.10   0.586015   \n",
              "3          4   34     26349.0            10       1.43   0.655703   \n",
              "4          5   43     11589.0            10       1.10   0.271893   \n",
              "\n",
              "          living_region  monthly_income  credit_count  overdue_credit_count  \\\n",
              "0           ОБЛ КУРСКАЯ         35000.0           2.0                   0.0   \n",
              "1  РЕСПУБЛИКА ТАТАРСТАН         15000.0           0.0                   0.0   \n",
              "2              МОСКВА Г         70000.0           4.0                   0.0   \n",
              "3  СВЕРДЛОВСКАЯ ОБЛАСТЬ         42500.0           4.0                   0.0   \n",
              "4     РЯЗАНСКАЯ ОБЛАСТЬ         20000.0           3.0                   0.0   \n",
              "\n",
              "   ...  job_position_SPC  job_position_UMN  job_position_WOI  \\\n",
              "0  ...               1.0               0.0               0.0   \n",
              "1  ...               1.0               0.0               0.0   \n",
              "2  ...               1.0               0.0               0.0   \n",
              "3  ...               1.0               0.0               0.0   \n",
              "4  ...               0.0               1.0               0.0   \n",
              "\n",
              "   job_position_WRK  job_position_WRP  education_ACD  education_GRD  \\\n",
              "0               0.0               0.0            0.0            0.0   \n",
              "1               0.0               0.0            0.0            0.0   \n",
              "2               0.0               0.0            0.0            1.0   \n",
              "3               0.0               0.0            0.0            0.0   \n",
              "4               0.0               0.0            0.0            1.0   \n",
              "\n",
              "   education_PGR  education_SCH  education_UGR  \n",
              "0            0.0            1.0            0.0  \n",
              "1            0.0            1.0            0.0  \n",
              "2            0.0            0.0            0.0  \n",
              "3            0.0            1.0            0.0  \n",
              "4            0.0            0.0            0.0  \n",
              "\n",
              "[5 rows x 37 columns]"
            ],
            "text/html": [
              "\n",
              "  <div id=\"df-08cece25-3e00-40cb-a867-8f5cb959473a\" class=\"colab-df-container\">\n",
              "    <div>\n",
              "<style scoped>\n",
              "    .dataframe tbody tr th:only-of-type {\n",
              "        vertical-align: middle;\n",
              "    }\n",
              "\n",
              "    .dataframe tbody tr th {\n",
              "        vertical-align: top;\n",
              "    }\n",
              "\n",
              "    .dataframe thead th {\n",
              "        text-align: right;\n",
              "    }\n",
              "</style>\n",
              "<table border=\"1\" class=\"dataframe\">\n",
              "  <thead>\n",
              "    <tr style=\"text-align: right;\">\n",
              "      <th></th>\n",
              "      <th>client_id</th>\n",
              "      <th>age</th>\n",
              "      <th>credit_sum</th>\n",
              "      <th>credit_month</th>\n",
              "      <th>tariff_id</th>\n",
              "      <th>score_shk</th>\n",
              "      <th>living_region</th>\n",
              "      <th>monthly_income</th>\n",
              "      <th>credit_count</th>\n",
              "      <th>overdue_credit_count</th>\n",
              "      <th>...</th>\n",
              "      <th>job_position_SPC</th>\n",
              "      <th>job_position_UMN</th>\n",
              "      <th>job_position_WOI</th>\n",
              "      <th>job_position_WRK</th>\n",
              "      <th>job_position_WRP</th>\n",
              "      <th>education_ACD</th>\n",
              "      <th>education_GRD</th>\n",
              "      <th>education_PGR</th>\n",
              "      <th>education_SCH</th>\n",
              "      <th>education_UGR</th>\n",
              "    </tr>\n",
              "  </thead>\n",
              "  <tbody>\n",
              "    <tr>\n",
              "      <th>0</th>\n",
              "      <td>1</td>\n",
              "      <td>25</td>\n",
              "      <td>26389.0</td>\n",
              "      <td>10</td>\n",
              "      <td>1.32</td>\n",
              "      <td>0.584105</td>\n",
              "      <td>ОБЛ КУРСКАЯ</td>\n",
              "      <td>35000.0</td>\n",
              "      <td>2.0</td>\n",
              "      <td>0.0</td>\n",
              "      <td>...</td>\n",
              "      <td>1.0</td>\n",
              "      <td>0.0</td>\n",
              "      <td>0.0</td>\n",
              "      <td>0.0</td>\n",
              "      <td>0.0</td>\n",
              "      <td>0.0</td>\n",
              "      <td>0.0</td>\n",
              "      <td>0.0</td>\n",
              "      <td>1.0</td>\n",
              "      <td>0.0</td>\n",
              "    </tr>\n",
              "    <tr>\n",
              "      <th>1</th>\n",
              "      <td>2</td>\n",
              "      <td>37</td>\n",
              "      <td>19588.0</td>\n",
              "      <td>12</td>\n",
              "      <td>1.43</td>\n",
              "      <td>0.718935</td>\n",
              "      <td>РЕСПУБЛИКА ТАТАРСТАН</td>\n",
              "      <td>15000.0</td>\n",
              "      <td>0.0</td>\n",
              "      <td>0.0</td>\n",
              "      <td>...</td>\n",
              "      <td>1.0</td>\n",
              "      <td>0.0</td>\n",
              "      <td>0.0</td>\n",
              "      <td>0.0</td>\n",
              "      <td>0.0</td>\n",
              "      <td>0.0</td>\n",
              "      <td>0.0</td>\n",
              "      <td>0.0</td>\n",
              "      <td>1.0</td>\n",
              "      <td>0.0</td>\n",
              "    </tr>\n",
              "    <tr>\n",
              "      <th>2</th>\n",
              "      <td>3</td>\n",
              "      <td>28</td>\n",
              "      <td>53669.0</td>\n",
              "      <td>18</td>\n",
              "      <td>1.10</td>\n",
              "      <td>0.586015</td>\n",
              "      <td>МОСКВА Г</td>\n",
              "      <td>70000.0</td>\n",
              "      <td>4.0</td>\n",
              "      <td>0.0</td>\n",
              "      <td>...</td>\n",
              "      <td>1.0</td>\n",
              "      <td>0.0</td>\n",
              "      <td>0.0</td>\n",
              "      <td>0.0</td>\n",
              "      <td>0.0</td>\n",
              "      <td>0.0</td>\n",
              "      <td>1.0</td>\n",
              "      <td>0.0</td>\n",
              "      <td>0.0</td>\n",
              "      <td>0.0</td>\n",
              "    </tr>\n",
              "    <tr>\n",
              "      <th>3</th>\n",
              "      <td>4</td>\n",
              "      <td>34</td>\n",
              "      <td>26349.0</td>\n",
              "      <td>10</td>\n",
              "      <td>1.43</td>\n",
              "      <td>0.655703</td>\n",
              "      <td>СВЕРДЛОВСКАЯ ОБЛАСТЬ</td>\n",
              "      <td>42500.0</td>\n",
              "      <td>4.0</td>\n",
              "      <td>0.0</td>\n",
              "      <td>...</td>\n",
              "      <td>1.0</td>\n",
              "      <td>0.0</td>\n",
              "      <td>0.0</td>\n",
              "      <td>0.0</td>\n",
              "      <td>0.0</td>\n",
              "      <td>0.0</td>\n",
              "      <td>0.0</td>\n",
              "      <td>0.0</td>\n",
              "      <td>1.0</td>\n",
              "      <td>0.0</td>\n",
              "    </tr>\n",
              "    <tr>\n",
              "      <th>4</th>\n",
              "      <td>5</td>\n",
              "      <td>43</td>\n",
              "      <td>11589.0</td>\n",
              "      <td>10</td>\n",
              "      <td>1.10</td>\n",
              "      <td>0.271893</td>\n",
              "      <td>РЯЗАНСКАЯ ОБЛАСТЬ</td>\n",
              "      <td>20000.0</td>\n",
              "      <td>3.0</td>\n",
              "      <td>0.0</td>\n",
              "      <td>...</td>\n",
              "      <td>0.0</td>\n",
              "      <td>1.0</td>\n",
              "      <td>0.0</td>\n",
              "      <td>0.0</td>\n",
              "      <td>0.0</td>\n",
              "      <td>0.0</td>\n",
              "      <td>1.0</td>\n",
              "      <td>0.0</td>\n",
              "      <td>0.0</td>\n",
              "      <td>0.0</td>\n",
              "    </tr>\n",
              "  </tbody>\n",
              "</table>\n",
              "<p>5 rows × 37 columns</p>\n",
              "</div>\n",
              "    <div class=\"colab-df-buttons\">\n",
              "\n",
              "  <div class=\"colab-df-container\">\n",
              "    <button class=\"colab-df-convert\" onclick=\"convertToInteractive('df-08cece25-3e00-40cb-a867-8f5cb959473a')\"\n",
              "            title=\"Convert this dataframe to an interactive table.\"\n",
              "            style=\"display:none;\">\n",
              "\n",
              "  <svg xmlns=\"http://www.w3.org/2000/svg\" height=\"24px\" viewBox=\"0 -960 960 960\">\n",
              "    <path d=\"M120-120v-720h720v720H120Zm60-500h600v-160H180v160Zm220 220h160v-160H400v160Zm0 220h160v-160H400v160ZM180-400h160v-160H180v160Zm440 0h160v-160H620v160ZM180-180h160v-160H180v160Zm440 0h160v-160H620v160Z\"/>\n",
              "  </svg>\n",
              "    </button>\n",
              "\n",
              "  <style>\n",
              "    .colab-df-container {\n",
              "      display:flex;\n",
              "      gap: 12px;\n",
              "    }\n",
              "\n",
              "    .colab-df-convert {\n",
              "      background-color: #E8F0FE;\n",
              "      border: none;\n",
              "      border-radius: 50%;\n",
              "      cursor: pointer;\n",
              "      display: none;\n",
              "      fill: #1967D2;\n",
              "      height: 32px;\n",
              "      padding: 0 0 0 0;\n",
              "      width: 32px;\n",
              "    }\n",
              "\n",
              "    .colab-df-convert:hover {\n",
              "      background-color: #E2EBFA;\n",
              "      box-shadow: 0px 1px 2px rgba(60, 64, 67, 0.3), 0px 1px 3px 1px rgba(60, 64, 67, 0.15);\n",
              "      fill: #174EA6;\n",
              "    }\n",
              "\n",
              "    .colab-df-buttons div {\n",
              "      margin-bottom: 4px;\n",
              "    }\n",
              "\n",
              "    [theme=dark] .colab-df-convert {\n",
              "      background-color: #3B4455;\n",
              "      fill: #D2E3FC;\n",
              "    }\n",
              "\n",
              "    [theme=dark] .colab-df-convert:hover {\n",
              "      background-color: #434B5C;\n",
              "      box-shadow: 0px 1px 3px 1px rgba(0, 0, 0, 0.15);\n",
              "      filter: drop-shadow(0px 1px 2px rgba(0, 0, 0, 0.3));\n",
              "      fill: #FFFFFF;\n",
              "    }\n",
              "  </style>\n",
              "\n",
              "    <script>\n",
              "      const buttonEl =\n",
              "        document.querySelector('#df-08cece25-3e00-40cb-a867-8f5cb959473a button.colab-df-convert');\n",
              "      buttonEl.style.display =\n",
              "        google.colab.kernel.accessAllowed ? 'block' : 'none';\n",
              "\n",
              "      async function convertToInteractive(key) {\n",
              "        const element = document.querySelector('#df-08cece25-3e00-40cb-a867-8f5cb959473a');\n",
              "        const dataTable =\n",
              "          await google.colab.kernel.invokeFunction('convertToInteractive',\n",
              "                                                    [key], {});\n",
              "        if (!dataTable) return;\n",
              "\n",
              "        const docLinkHtml = 'Like what you see? Visit the ' +\n",
              "          '<a target=\"_blank\" href=https://colab.research.google.com/notebooks/data_table.ipynb>data table notebook</a>'\n",
              "          + ' to learn more about interactive tables.';\n",
              "        element.innerHTML = '';\n",
              "        dataTable['output_type'] = 'display_data';\n",
              "        await google.colab.output.renderOutput(dataTable, element);\n",
              "        const docLink = document.createElement('div');\n",
              "        docLink.innerHTML = docLinkHtml;\n",
              "        element.appendChild(docLink);\n",
              "      }\n",
              "    </script>\n",
              "  </div>\n",
              "\n",
              "\n",
              "<div id=\"df-bb2907b3-9656-4212-9664-abe808d90385\">\n",
              "  <button class=\"colab-df-quickchart\" onclick=\"quickchart('df-bb2907b3-9656-4212-9664-abe808d90385')\"\n",
              "            title=\"Suggest charts.\"\n",
              "            style=\"display:none;\">\n",
              "\n",
              "<svg xmlns=\"http://www.w3.org/2000/svg\" height=\"24px\"viewBox=\"0 0 24 24\"\n",
              "     width=\"24px\">\n",
              "    <g>\n",
              "        <path d=\"M19 3H5c-1.1 0-2 .9-2 2v14c0 1.1.9 2 2 2h14c1.1 0 2-.9 2-2V5c0-1.1-.9-2-2-2zM9 17H7v-7h2v7zm4 0h-2V7h2v10zm4 0h-2v-4h2v4z\"/>\n",
              "    </g>\n",
              "</svg>\n",
              "  </button>\n",
              "\n",
              "<style>\n",
              "  .colab-df-quickchart {\n",
              "      --bg-color: #E8F0FE;\n",
              "      --fill-color: #1967D2;\n",
              "      --hover-bg-color: #E2EBFA;\n",
              "      --hover-fill-color: #174EA6;\n",
              "      --disabled-fill-color: #AAA;\n",
              "      --disabled-bg-color: #DDD;\n",
              "  }\n",
              "\n",
              "  [theme=dark] .colab-df-quickchart {\n",
              "      --bg-color: #3B4455;\n",
              "      --fill-color: #D2E3FC;\n",
              "      --hover-bg-color: #434B5C;\n",
              "      --hover-fill-color: #FFFFFF;\n",
              "      --disabled-bg-color: #3B4455;\n",
              "      --disabled-fill-color: #666;\n",
              "  }\n",
              "\n",
              "  .colab-df-quickchart {\n",
              "    background-color: var(--bg-color);\n",
              "    border: none;\n",
              "    border-radius: 50%;\n",
              "    cursor: pointer;\n",
              "    display: none;\n",
              "    fill: var(--fill-color);\n",
              "    height: 32px;\n",
              "    padding: 0;\n",
              "    width: 32px;\n",
              "  }\n",
              "\n",
              "  .colab-df-quickchart:hover {\n",
              "    background-color: var(--hover-bg-color);\n",
              "    box-shadow: 0 1px 2px rgba(60, 64, 67, 0.3), 0 1px 3px 1px rgba(60, 64, 67, 0.15);\n",
              "    fill: var(--button-hover-fill-color);\n",
              "  }\n",
              "\n",
              "  .colab-df-quickchart-complete:disabled,\n",
              "  .colab-df-quickchart-complete:disabled:hover {\n",
              "    background-color: var(--disabled-bg-color);\n",
              "    fill: var(--disabled-fill-color);\n",
              "    box-shadow: none;\n",
              "  }\n",
              "\n",
              "  .colab-df-spinner {\n",
              "    border: 2px solid var(--fill-color);\n",
              "    border-color: transparent;\n",
              "    border-bottom-color: var(--fill-color);\n",
              "    animation:\n",
              "      spin 1s steps(1) infinite;\n",
              "  }\n",
              "\n",
              "  @keyframes spin {\n",
              "    0% {\n",
              "      border-color: transparent;\n",
              "      border-bottom-color: var(--fill-color);\n",
              "      border-left-color: var(--fill-color);\n",
              "    }\n",
              "    20% {\n",
              "      border-color: transparent;\n",
              "      border-left-color: var(--fill-color);\n",
              "      border-top-color: var(--fill-color);\n",
              "    }\n",
              "    30% {\n",
              "      border-color: transparent;\n",
              "      border-left-color: var(--fill-color);\n",
              "      border-top-color: var(--fill-color);\n",
              "      border-right-color: var(--fill-color);\n",
              "    }\n",
              "    40% {\n",
              "      border-color: transparent;\n",
              "      border-right-color: var(--fill-color);\n",
              "      border-top-color: var(--fill-color);\n",
              "    }\n",
              "    60% {\n",
              "      border-color: transparent;\n",
              "      border-right-color: var(--fill-color);\n",
              "    }\n",
              "    80% {\n",
              "      border-color: transparent;\n",
              "      border-right-color: var(--fill-color);\n",
              "      border-bottom-color: var(--fill-color);\n",
              "    }\n",
              "    90% {\n",
              "      border-color: transparent;\n",
              "      border-bottom-color: var(--fill-color);\n",
              "    }\n",
              "  }\n",
              "</style>\n",
              "\n",
              "  <script>\n",
              "    async function quickchart(key) {\n",
              "      const quickchartButtonEl =\n",
              "        document.querySelector('#' + key + ' button');\n",
              "      quickchartButtonEl.disabled = true;  // To prevent multiple clicks.\n",
              "      quickchartButtonEl.classList.add('colab-df-spinner');\n",
              "      try {\n",
              "        const charts = await google.colab.kernel.invokeFunction(\n",
              "            'suggestCharts', [key], {});\n",
              "      } catch (error) {\n",
              "        console.error('Error during call to suggestCharts:', error);\n",
              "      }\n",
              "      quickchartButtonEl.classList.remove('colab-df-spinner');\n",
              "      quickchartButtonEl.classList.add('colab-df-quickchart-complete');\n",
              "    }\n",
              "    (() => {\n",
              "      let quickchartButtonEl =\n",
              "        document.querySelector('#df-bb2907b3-9656-4212-9664-abe808d90385 button');\n",
              "      quickchartButtonEl.style.display =\n",
              "        google.colab.kernel.accessAllowed ? 'block' : 'none';\n",
              "    })();\n",
              "  </script>\n",
              "</div>\n",
              "    </div>\n",
              "  </div>\n"
            ]
          },
          "metadata": {},
          "execution_count": 27
        }
      ]
    },
    {
      "cell_type": "markdown",
      "source": [
        "#### Обработка living_region"
      ],
      "metadata": {
        "id": "Q-G4102sT4X9"
      }
    },
    {
      "cell_type": "code",
      "source": [
        "np.unique(train_data['living_region'].dropna(), return_counts=True)"
      ],
      "metadata": {
        "id": "Kl-y4vDOUI6B",
        "colab": {
          "base_uri": "https://localhost:8080/"
        },
        "outputId": "ac3896c1-8b13-4e92-b3ca-645c01463f41"
      },
      "execution_count": 28,
      "outputs": [
        {
          "output_type": "execute_result",
          "data": {
            "text/plain": [
              "(array(['74', '98', 'АДЫГЕЯ РЕСП', 'АЛТАЙСКИЙ', 'АЛТАЙСКИЙ КРАЙ',\n",
              "        'АМУРСКАЯ ОБЛ', 'АМУРСКАЯ ОБЛАСТЬ', 'АО НЕНЕЦКИЙ',\n",
              "        'АО ХАНТЫ-МАНСИЙСКИЙ АВТОНОМНЫЙ ОКРУГ - Ю', 'АО ЯМАЛО-НЕНЕЦКИЙ',\n",
              "        'АОБЛ ЕВРЕЙСКАЯ', 'АРХАНГЕЛЬСКАЯ', 'АРХАНГЕЛЬСКАЯ ОБЛ',\n",
              "        'АРХАНГЕЛЬСКАЯ ОБЛАСТЬ', 'АСТРАХАНСКАЯ', 'АСТРАХАНСКАЯ ОБЛ',\n",
              "        'АСТРАХАНСКАЯ ОБЛАСТЬ', 'БАШКОРТОСТАН', 'БАШКОРТОСТАН РЕСП',\n",
              "        'БЕЛГОРОДСКАЯ ОБЛ', 'БЕЛГОРОДСКАЯ ОБЛАСТЬ', 'БРЯНСКАЯ ОБЛ',\n",
              "        'БРЯНСКАЯ ОБЛАСТЬ', 'БРЯНСКИЙ', 'БУРЯТИЯ', 'БУРЯТИЯ РЕСП',\n",
              "        'ВЛАДИМИРСКАЯ ОБЛ', 'ВЛАДИМИРСКАЯ ОБЛАСТЬ', 'ВОЛГОГРАДСКАЯ ОБЛ',\n",
              "        'ВОЛГОГРАДСКАЯ ОБЛАСТЬ', 'ВОЛОГОДСКАЯ', 'ВОЛОГОДСКАЯ ОБЛ',\n",
              "        'ВОЛОГОДСКАЯ ОБЛ.', 'ВОЛОГОДСКАЯ ОБЛАСТЬ', 'ВОРОНЕЖСКАЯ ОБЛ',\n",
              "        'ВОРОНЕЖСКАЯ ОБЛАСТЬ', 'Г МОСКВА', 'Г. МОСКВА',\n",
              "        'Г. САНКТ-ПЕТЕРБУРГ', 'Г.МОСКВА', 'ГОРЬКОВСКАЯ ОБЛ',\n",
              "        'ГУСЬ-ХРУСТАЛЬНЫЙ Р-Н', 'ДАГЕСТАН РЕСП', 'ЕВРЕЙСКАЯ АВТОНОМНАЯ',\n",
              "        'ЕВРЕЙСКАЯ АОБЛ', 'ЗАБАЙКАЛЬСКИЙ КРАЙ', 'ИВАНОВСКАЯ ОБЛ',\n",
              "        'ИВАНОВСКАЯ ОБЛАСТЬ', 'ИНГУШЕТИЯ РЕСП', 'ИРКУТСКАЯ ОБЛ',\n",
              "        'ИРКУТСКАЯ ОБЛАСТЬ', 'КАБАРДИНО-БАЛКАРСКАЯ',\n",
              "        'КАБАРДИНО-БАЛКАРСКАЯ РЕСП', 'КАЛИНИНГРАДСКАЯ ОБЛ',\n",
              "        'КАЛИНИНГРАДСКАЯ ОБЛ.', 'КАЛМЫКИЯ', 'КАЛМЫКИЯ РЕСП', 'КАЛУЖСКАЯ',\n",
              "        'КАЛУЖСКАЯ ОБЛ', 'КАЛУЖСКАЯ ОБЛАСТЬ', 'КАМЧАТСКАЯ ОБЛАСТЬ',\n",
              "        'КАМЧАТСКИЙ КРАЙ', 'КАРАЧАЕВО-ЧЕРКЕССКАЯ РЕСП', 'КАРЕЛИЯ',\n",
              "        'КАРЕЛИЯ РЕСП', 'КЕМЕРОВСКАЯ ОБЛ', 'КЕМЕРОВСКАЯ ОБЛАСТЬ',\n",
              "        'КИРОВСКАЯ ОБЛ', 'КИРОВСКАЯ ОБЛАСТЬ', 'КОМИ', 'КОМИ РЕСП',\n",
              "        'КОСТРОМСКАЯ ОБЛ', 'КОСТРОМСКАЯ ОБЛАСТЬ', 'КРАЙ АЛТАЙСКИЙ',\n",
              "        'КРАЙ ЗАБАЙКАЛЬСКИЙ', 'КРАЙ КАМЧАТСКИЙ', 'КРАЙ КРАСНОДАРСКИЙ',\n",
              "        'КРАЙ КРАСНОЯРСКИЙ', 'КРАЙ ПЕРМСКИЙ', 'КРАЙ ПРИМОРСКИЙ',\n",
              "        'КРАЙ СТАВРОПОЛЬСКИЙ', 'КРАЙ ХАБАРОВСКИЙ', 'КРАЙ. КРАСНОЯРСКИЙ',\n",
              "        'КРАЙ. ПЕРМСКИЙ', 'КРАЙ. СТАВРОПОЛЬСКИЙ', 'КРАСНОДАРСКИЙ',\n",
              "        'КРАСНОДАРСКИЙ КРАЙ', 'КРАСНОЯРСКИЙ КРАЙ', 'КУРГАНСКАЯ ОБЛ',\n",
              "        'КУРГАНСКАЯ ОБЛАСТЬ', 'КУРСКАЯ ОБЛ', 'КУРСКАЯ ОБЛАСТЬ',\n",
              "        'ЛЕНИНГРАДСКАЯ', 'ЛЕНИНГРАДСКАЯ ОБЛ', 'ЛЕНИНГРАДСКАЯ ОБЛАСТЬ',\n",
              "        'ЛИПЕЦКАЯ ОБЛ', 'ЛИПЕЦКАЯ ОБЛАСТЬ', 'МАГАДАНСКАЯ ОБЛАСТЬ',\n",
              "        'МАРИЙ ЭЛ РЕСП', 'МОРДОВИЯ РЕСП', 'МОСКВА', 'МОСКВА Г',\n",
              "        'МОСКОВСКАЯ', 'МОСКОВСКАЯ ОБЛ', 'МОСКОВСКАЯ ОБЛАСТЬ',\n",
              "        'МУРМАНСКАЯ ОБЛ', 'МУРМАНСКАЯ ОБЛАСТЬ', 'МЫТИЩИНСКИЙ Р-Н',\n",
              "        'НЕНЕЦКИЙ АО', 'НИЖЕГОРОДСКАЯ ОБЛ', 'НИЖЕГОРОДСКАЯ ОБЛАСТЬ',\n",
              "        'НОВГОРОДСКАЯ ОБЛ', 'НОВГОРОДСКАЯ ОБЛАСТЬ', 'НОВОСИБИРСКАЯ',\n",
              "        'НОВОСИБИРСКАЯ ОБЛ', 'НОВОСИБИРСКАЯ ОБЛАСТЬ', 'ОБЛ АМУРСКАЯ',\n",
              "        'ОБЛ АРХАНГЕЛЬСКАЯ', 'ОБЛ АСТРАХАНСКАЯ', 'ОБЛ БЕЛГОРОДСКАЯ',\n",
              "        'ОБЛ БРЯНСКАЯ', 'ОБЛ ВЛАДИМИРСКАЯ', 'ОБЛ ВОЛГОГРАДСКАЯ',\n",
              "        'ОБЛ ВОЛОГОДСКАЯ', 'ОБЛ ВОРОНЕЖСКАЯ', 'ОБЛ ИВАНОВСКАЯ',\n",
              "        'ОБЛ ИРКУТСКАЯ', 'ОБЛ КАЛИНИНГРАДСКАЯ', 'ОБЛ КАЛУЖСКАЯ',\n",
              "        'ОБЛ КЕМЕРОВСКАЯ', 'ОБЛ КИРОВСКАЯ', 'ОБЛ КОСТРОМСКАЯ',\n",
              "        'ОБЛ КУРГАНСКАЯ', 'ОБЛ КУРСКАЯ', 'ОБЛ ЛЕНИНГРАДСКАЯ',\n",
              "        'ОБЛ ЛИПЕЦКАЯ', 'ОБЛ МАГАДАНСКАЯ', 'ОБЛ МОСКОВСКАЯ',\n",
              "        'ОБЛ МУРМАНСКАЯ', 'ОБЛ НИЖЕГОРОДСКАЯ', 'ОБЛ НОВГОРОДСКАЯ',\n",
              "        'ОБЛ НОВОСИБИРСКАЯ', 'ОБЛ ОМСКАЯ', 'ОБЛ ОРЕНБУРГСКАЯ',\n",
              "        'ОБЛ ОРЛОВСКАЯ', 'ОБЛ ПЕНЗЕНСКАЯ', 'ОБЛ ПСКОВСКАЯ',\n",
              "        'ОБЛ РОСТОВСКАЯ', 'ОБЛ РЯЗАНСКАЯ', 'ОБЛ САМАРСКАЯ',\n",
              "        'ОБЛ САРАТОВСКАЯ', 'ОБЛ САХАЛИНСКАЯ', 'ОБЛ СВЕРДЛОВСКАЯ',\n",
              "        'ОБЛ СМОЛЕНСКАЯ', 'ОБЛ ТАМБОВСКАЯ', 'ОБЛ ТВЕРСКАЯ', 'ОБЛ ТОМСКАЯ',\n",
              "        'ОБЛ ТУЛЬСКАЯ', 'ОБЛ ТЮМЕНСКАЯ', 'ОБЛ УЛЬЯНОВСКАЯ',\n",
              "        'ОБЛ ЧЕЛЯБИНСКАЯ', 'ОБЛ ЯРОСЛАВСКАЯ', 'ОБЛ. ВЛАДИМИРСКАЯ',\n",
              "        'ОБЛ. КУРГАНСКАЯ', 'ОБЛ. СВЕРДЛОВСКАЯ', 'ОБЛ.НИЖЕГОРОДСКАЯ',\n",
              "        'ОБЛ.РОСТОВСКАЯ', 'ОБЛ.САРАТОВСКАЯ', 'ОМСКАЯ', 'ОМСКАЯ ОБЛ',\n",
              "        'ОМСКАЯ ОБЛАСТЬ', 'ОРЁЛ', 'ОРЕНБУРГСКАЯ ОБЛ',\n",
              "        'ОРЕНБУРГСКАЯ ОБЛАСТЬ', 'ОРЛОВСКАЯ ОБЛ', 'ОРЛОВСКАЯ ОБЛАСТЬ',\n",
              "        'ПЕНЗЕНСКАЯ ОБЛ', 'ПЕНЗЕНСКАЯ ОБЛАСТЬ', 'ПЕРМСКАЯ ОБЛ', 'ПЕРМСКИЙ',\n",
              "        'ПЕРМСКИЙ КРАЙ', 'ПРИВОЛЖСКИЙ ФЕДЕРАЛЬНЫЙ ОКРУГ',\n",
              "        'ПРИМОРСКИЙ КРАЙ', 'ПСКОВСКАЯ ОБЛ', 'ПСКОВСКАЯ ОБЛАСТЬ',\n",
              "        'РЕСП АДЫГЕЯ', 'РЕСП АЛТАЙ', 'РЕСП БАШКОРТОСТАН', 'РЕСП БУРЯТИЯ',\n",
              "        'РЕСП ДАГЕСТАН', 'РЕСП ИНГУШЕТИЯ', 'РЕСП КАБАРДИНО-БАЛКАРСКАЯ',\n",
              "        'РЕСП КАЛМЫКИЯ', 'РЕСП КАРАЧАЕВО-ЧЕРКЕССКАЯ', 'РЕСП КАРЕЛИЯ',\n",
              "        'РЕСП КОМИ', 'РЕСП МАРИЙ ЭЛ', 'РЕСП МОРДОВИЯ',\n",
              "        'РЕСП САХА /ЯКУТИЯ/', 'РЕСП СЕВЕРНАЯ ОСЕТИЯ - АЛАНИЯ',\n",
              "        'РЕСП ТАТАРСТАН', 'РЕСП ТЫВА', 'РЕСП УДМУРТСКАЯ', 'РЕСП ХАКАСИЯ',\n",
              "        'РЕСП ЧЕЧЕНСКАЯ', 'РЕСП ЧУВАШСКАЯ - ЧУВАШИЯ', 'РЕСП. БАШКОРТОСТАН',\n",
              "        'РЕСП. КОМИ', 'РЕСП. САХА (ЯКУТИЯ)', 'РЕСП.БАШКОРТОСТАН',\n",
              "        'РЕСПУБЛИКА АДЫГЕЯ', 'РЕСПУБЛИКА АЛТАЙ', 'РЕСПУБЛИКА БУРЯТИЯ',\n",
              "        'РЕСПУБЛИКА ДАГЕСТАН', 'РЕСПУБЛИКА КАЛМЫКИЯ', 'РЕСПУБЛИКА КАРЕЛИЯ',\n",
              "        'РЕСПУБЛИКА КОМИ', 'РЕСПУБЛИКА МАРИЙ ЭЛ', 'РЕСПУБЛИКА МОРДОВИЯ',\n",
              "        'РЕСПУБЛИКА ТАТАРСТАН', 'РЕСПУБЛИКА ТЫВА', 'РЕСПУБЛИКАТАТАРСТАН',\n",
              "        'РОССИЯ', 'РОСТОВСКАЯ', 'РОСТОВСКАЯ ОБЛ', 'РОСТОВСКАЯ ОБЛАСТЬ',\n",
              "        'РЯЗАНСКАЯ ОБЛ', 'РЯЗАНСКАЯ ОБЛАСТЬ', 'САМАРСКАЯ', 'САМАРСКАЯ ОБЛ',\n",
              "        'САМАРСКАЯ ОБЛАСТЬ', 'САНКТ-ПЕТЕРБУРГ', 'САНКТ-ПЕТЕРБУРГ Г',\n",
              "        'САРАТОВСКАЯ ОБЛ', 'САРАТОВСКАЯ ОБЛАСТЬ', 'САХА /ЯКУТИЯ/',\n",
              "        'САХА /ЯКУТИЯ/ РЕСП', 'САХАЛИНСКАЯ ОБЛ', 'САХАЛИНСКАЯ ОБЛАСТЬ',\n",
              "        'СВЕРДЛОВСКАЯ', 'СВЕРДЛОВСКАЯ ОБЛ', 'СВЕРДЛОВСКАЯ ОБЛАСТЬ',\n",
              "        'СЕВ. ОСЕТИЯ - АЛАНИЯ', 'СЕВЕРНАЯ ОСЕТИЯ - АЛАНИЯ РЕСП',\n",
              "        'СМОЛЕНСКАЯ ОБЛ', 'СМОЛЕНСКАЯ ОБЛАСТЬ', 'СТАВРОПОЛЬСКИЙ',\n",
              "        'СТАВРОПОЛЬСКИЙ КРАЙ', 'ТАМБОВСКАЯ ОБЛ', 'ТАМБОВСКАЯ ОБЛАСТЬ',\n",
              "        'ТАТАРСТАН РЕСП', 'ТВЕРСКАЯ ОБЛ', 'ТВЕРСКАЯ ОБЛАСТЬ', 'ТОМСКАЯ',\n",
              "        'ТОМСКАЯ ОБЛ', 'ТОМСКАЯ ОБЛАСТЬ', 'ТУЛЬСКАЯ ОБЛ',\n",
              "        'ТУЛЬСКАЯ ОБЛАСТЬ', 'ТЫВА РЕСП', 'ТЮМЕНСКАЯ', 'ТЮМЕНСКАЯ ОБЛ',\n",
              "        'ТЮМЕНСКАЯ ОБЛАСТЬ', 'УДМУРТСКАЯ РЕСП', 'УДМУРТСКАЯ РЕСПУБЛИКА',\n",
              "        'УЛЬЯНОВСКАЯ ОБЛ', 'УЛЬЯНОВСКАЯ ОБЛАСТЬ', 'ХАБАРОВСКИЙ КРАЙ',\n",
              "        'ХАКАСИЯ', 'ХАКАСИЯ РЕСП',\n",
              "        'ХАНТЫ-МАНСИЙСКИЙ АВТОНОМНЫЙ ОКРУГ - ЮГРА', 'ХАНТЫ-МАНСИЙСКИЙ АО',\n",
              "        'ЧЕЛЯБИНСКАЯ ОБЛ', 'ЧЕЛЯБИНСКАЯ ОБЛАСТЬ', 'ЧЕЧЕНСКАЯ РЕСП',\n",
              "        'ЧЕЧЕНСКАЯ РЕСПУБЛИКА', 'ЧИТИНСКАЯ ОБЛ',\n",
              "        'ЧУВАШИЯ ЧУВАШСКАЯ РЕСПУБЛИКА -', 'ЧУВАШСКАЯ - ЧУВАШИЯ РЕСП',\n",
              "        'ЧУВАШСКАЯ РЕСП', 'ЧУВАШСКАЯ РЕСПУБЛИКА',\n",
              "        'ЧУВАШСКАЯ РЕСПУБЛИКА - ЧУВАШИЯ', 'ЧУКОТСКИЙ АО',\n",
              "        'ЯМАЛО-НЕНЕЦКИЙ АО', 'ЯРОСЛАВСКАЯ ОБЛ', 'ЯРОСЛАВСКАЯ ОБЛАСТЬ'],\n",
              "       dtype=object),\n",
              " array([   1,    1,    5,    2,    7,    9,   15,   13,  396,   94,    3,\n",
              "           1,   16,    7,   18,   27,   99,   18,   99,   21,   20,    8,\n",
              "           4,    1,   13,   19,   23,   15,   17,   26,   30,    6,    1,\n",
              "          30,    8,    8,   13,   47,   23,    1,   16,    1,    5,    6,\n",
              "         130,   46,    4,    3,    1,  101,   62,    9,   25,    8,    1,\n",
              "           1,    3,    1,   11,   11,    1,    8,   12,    1,    2,   20,\n",
              "          17,    5,    1,    1,   12,    3,    4,  374,  863,  271,  615,\n",
              "         123,  600,   32, 1833,   43,    1,    1,    1,    7, 5176, 2087,\n",
              "          20,    8,   40,   36,   15,   66,   87,    6,   10,    1,    9,\n",
              "           5, 3821, 2509,    6,  266,  156,   13,    9,    1,  100,   51,\n",
              "          35,   11,    3,    1,   31,    6,  580, 1204, 1756,  498,  544,\n",
              "        1078, 1587, 1756, 1172,  667, 2863,  503,  773, 1993,  438,  372,\n",
              "         918,  809, 2235,  582,  106, 8564,  919, 2504,  514, 1496,   64,\n",
              "          83,   60,   54,  148,  157,   49, 2034,   97,   16,  899,   36,\n",
              "          46,   63,   36,   54,  434,   38,  469,   36,    1,    1,    1,\n",
              "           1,    1,    1,    1,  413,  185,    1,  638,  190,  313,  161,\n",
              "         362,  243,   39,    1, 1930,    1,  862,  162,   98,  282,   32,\n",
              "        3358,  851,   40,   16,  427,  138,  412,  387,  894,  357,  341,\n",
              "          43,   33,  223,   18,   44,   99,   13,    1, 1011,    1,  358,\n",
              "           1,  112,    3,  264,    4,   61,   82,  409,  130,  151, 1513,\n",
              "         102,    1,    1,    2, 2111,  729,  268,  195,   23,  959,  570,\n",
              "        3968, 1866, 1023,  511,    1,  880,  326,  141,    1, 2782, 1410,\n",
              "          33,  195,  461,  212,    4, 1395,  451,  282, 3635,  650,  364,\n",
              "           1,  232,  166,  610,  290,  276,    1,  840,  433,  516,  192,\n",
              "         394,  232, 1039,    1,  238, 1575, 1038, 2047, 1093,    6,    2,\n",
              "           8,   35,   53,    1,  205,  367,   21, 1249,  377,  230]))"
            ]
          },
          "metadata": {},
          "execution_count": 28
        }
      ]
    },
    {
      "cell_type": "markdown",
      "source": [
        "Какие проблемы тут есть или могут возникнуть:\n",
        "\n",
        "- Один и тот же регион написан по-разному;\n",
        "- Есть регионы, которые встречаются очень редко;\n",
        "- Возможны два типа ситуаций:\n",
        "    - Какой-то регион есть в тренировочных данных, но его нет в тестовых;\n",
        "    - Какой-то регион есть в тестовых данных, но его нет в тренировочных."
      ],
      "metadata": {
        "id": "Ap4g1ffmUcxB"
      }
    },
    {
      "cell_type": "markdown",
      "source": [
        "Также из этого признака можно создать новые признаки:\n",
        "- какие?\n"
      ],
      "metadata": {
        "id": "4TSjGrelU08a"
      }
    },
    {
      "cell_type": "markdown",
      "source": [
        "**Задание**: обработайте признак living_region. Не забудьте, что в тестовых данных вам нужно будет обработать этот признак в той же манере, что и в тренировочных данных."
      ],
      "metadata": {
        "id": "5eJOOJeZ1yb_"
      }
    },
    {
      "cell_type": "markdown",
      "source": [
        "### Создание новых признаков"
      ],
      "metadata": {
        "id": "k025DgC0VKAs"
      }
    },
    {
      "cell_type": "markdown",
      "source": [
        "#### Ручное создание новых признаков"
      ],
      "metadata": {
        "id": "S98iHnn6zgqD"
      }
    },
    {
      "cell_type": "markdown",
      "source": [
        "Часто на основе имеющихся признаков можно создавать новые. Какие новые признаки приходят на ум для нашего датасета?"
      ],
      "metadata": {
        "id": "FsfsBunHVTQo"
      }
    },
    {
      "cell_type": "markdown",
      "source": [
        "#### Автоматическое создание новых признаков"
      ],
      "metadata": {
        "id": "mdbAU859zdID"
      }
    },
    {
      "cell_type": "markdown",
      "source": [
        "Помогут [PolynomialFeatures](sklearn.preprocessing.PolynomialFeatures) из sklearn"
      ],
      "metadata": {
        "id": "Foe4kQFU1ZPF"
      }
    },
    {
      "cell_type": "markdown",
      "source": [
        "### Фильтрация признаков"
      ],
      "metadata": {
        "id": "QggLSuwTz06h"
      }
    },
    {
      "cell_type": "markdown",
      "source": [
        "Помогут [SequentialFeatureSelector](https://scikit-learn.org/stable/modules/generated/sklearn.feature_selection.SequentialFeatureSelector.html#sklearn.feature_selection.SequentialFeatureSelector), [SelectFromModel](https://scikit-learn.org/stable/modules/generated/sklearn.feature_selection.SelectFromModel.html#sklearn.feature_selection.SelectFromModel) и другие классы из модуля [feature_selection](https://scikit-learn.org/stable/modules/classes.html#module-sklearn.feature_selection) sklearn."
      ],
      "metadata": {
        "id": "xzMN5pxdz3IN"
      }
    },
    {
      "cell_type": "markdown",
      "source": [
        "## Обработка тестовых данных"
      ],
      "metadata": {
        "id": "ph9d7m5IPdky"
      }
    },
    {
      "cell_type": "code",
      "source": [
        "test_data.head()"
      ],
      "metadata": {
        "id": "ofNam26APhXP",
        "colab": {
          "base_uri": "https://localhost:8080/",
          "height": 313
        },
        "outputId": "db6509e9-3c38-4b2c-c615-348c5228826e"
      },
      "execution_count": 29,
      "outputs": [
        {
          "output_type": "execute_result",
          "data": {
            "text/plain": [
              "   client_id gender  age marital_status job_position  credit_sum  \\\n",
              "0     119519      F   24            MAR          SPC     28429.0   \n",
              "1     119520      M   25            UNM          SPC     15997.0   \n",
              "2     119521      M   25            UNM          SPC     11043.0   \n",
              "3     119522      F   34            MAR          SPC     14617.0   \n",
              "4     119523      M   33            MAR          SPC     38147.0   \n",
              "\n",
              "   credit_month  tariff_id  score_shk education      living_region  \\\n",
              "0            18       1.10   0.593836       GRD      ОБЛ ИРКУТСКАЯ   \n",
              "1            10       1.60   0.615015       SCH    УЛЬЯНОВСКАЯ ОБЛ   \n",
              "2            10       1.16   0.666758       SCH  РЕСП БАШКОРТОСТАН   \n",
              "3            10       1.40   0.447745       GRD     ПЕНЗЕНСКАЯ ОБЛ   \n",
              "4            12       1.60   0.706974       UGR     ОБЛ МОСКОВСКАЯ   \n",
              "\n",
              "   monthly_income  credit_count  overdue_credit_count  \n",
              "0         33000.0           3.0                   0.0  \n",
              "1         35000.0           2.0                   0.0  \n",
              "2         25000.0           3.0                   0.0  \n",
              "3         15000.0           2.0                   0.0  \n",
              "4         55000.0           1.0                   0.0  "
            ],
            "text/html": [
              "\n",
              "  <div id=\"df-d8188fd4-a1f3-4959-b4b0-877998ffd2f6\" class=\"colab-df-container\">\n",
              "    <div>\n",
              "<style scoped>\n",
              "    .dataframe tbody tr th:only-of-type {\n",
              "        vertical-align: middle;\n",
              "    }\n",
              "\n",
              "    .dataframe tbody tr th {\n",
              "        vertical-align: top;\n",
              "    }\n",
              "\n",
              "    .dataframe thead th {\n",
              "        text-align: right;\n",
              "    }\n",
              "</style>\n",
              "<table border=\"1\" class=\"dataframe\">\n",
              "  <thead>\n",
              "    <tr style=\"text-align: right;\">\n",
              "      <th></th>\n",
              "      <th>client_id</th>\n",
              "      <th>gender</th>\n",
              "      <th>age</th>\n",
              "      <th>marital_status</th>\n",
              "      <th>job_position</th>\n",
              "      <th>credit_sum</th>\n",
              "      <th>credit_month</th>\n",
              "      <th>tariff_id</th>\n",
              "      <th>score_shk</th>\n",
              "      <th>education</th>\n",
              "      <th>living_region</th>\n",
              "      <th>monthly_income</th>\n",
              "      <th>credit_count</th>\n",
              "      <th>overdue_credit_count</th>\n",
              "    </tr>\n",
              "  </thead>\n",
              "  <tbody>\n",
              "    <tr>\n",
              "      <th>0</th>\n",
              "      <td>119519</td>\n",
              "      <td>F</td>\n",
              "      <td>24</td>\n",
              "      <td>MAR</td>\n",
              "      <td>SPC</td>\n",
              "      <td>28429.0</td>\n",
              "      <td>18</td>\n",
              "      <td>1.10</td>\n",
              "      <td>0.593836</td>\n",
              "      <td>GRD</td>\n",
              "      <td>ОБЛ ИРКУТСКАЯ</td>\n",
              "      <td>33000.0</td>\n",
              "      <td>3.0</td>\n",
              "      <td>0.0</td>\n",
              "    </tr>\n",
              "    <tr>\n",
              "      <th>1</th>\n",
              "      <td>119520</td>\n",
              "      <td>M</td>\n",
              "      <td>25</td>\n",
              "      <td>UNM</td>\n",
              "      <td>SPC</td>\n",
              "      <td>15997.0</td>\n",
              "      <td>10</td>\n",
              "      <td>1.60</td>\n",
              "      <td>0.615015</td>\n",
              "      <td>SCH</td>\n",
              "      <td>УЛЬЯНОВСКАЯ ОБЛ</td>\n",
              "      <td>35000.0</td>\n",
              "      <td>2.0</td>\n",
              "      <td>0.0</td>\n",
              "    </tr>\n",
              "    <tr>\n",
              "      <th>2</th>\n",
              "      <td>119521</td>\n",
              "      <td>M</td>\n",
              "      <td>25</td>\n",
              "      <td>UNM</td>\n",
              "      <td>SPC</td>\n",
              "      <td>11043.0</td>\n",
              "      <td>10</td>\n",
              "      <td>1.16</td>\n",
              "      <td>0.666758</td>\n",
              "      <td>SCH</td>\n",
              "      <td>РЕСП БАШКОРТОСТАН</td>\n",
              "      <td>25000.0</td>\n",
              "      <td>3.0</td>\n",
              "      <td>0.0</td>\n",
              "    </tr>\n",
              "    <tr>\n",
              "      <th>3</th>\n",
              "      <td>119522</td>\n",
              "      <td>F</td>\n",
              "      <td>34</td>\n",
              "      <td>MAR</td>\n",
              "      <td>SPC</td>\n",
              "      <td>14617.0</td>\n",
              "      <td>10</td>\n",
              "      <td>1.40</td>\n",
              "      <td>0.447745</td>\n",
              "      <td>GRD</td>\n",
              "      <td>ПЕНЗЕНСКАЯ ОБЛ</td>\n",
              "      <td>15000.0</td>\n",
              "      <td>2.0</td>\n",
              "      <td>0.0</td>\n",
              "    </tr>\n",
              "    <tr>\n",
              "      <th>4</th>\n",
              "      <td>119523</td>\n",
              "      <td>M</td>\n",
              "      <td>33</td>\n",
              "      <td>MAR</td>\n",
              "      <td>SPC</td>\n",
              "      <td>38147.0</td>\n",
              "      <td>12</td>\n",
              "      <td>1.60</td>\n",
              "      <td>0.706974</td>\n",
              "      <td>UGR</td>\n",
              "      <td>ОБЛ МОСКОВСКАЯ</td>\n",
              "      <td>55000.0</td>\n",
              "      <td>1.0</td>\n",
              "      <td>0.0</td>\n",
              "    </tr>\n",
              "  </tbody>\n",
              "</table>\n",
              "</div>\n",
              "    <div class=\"colab-df-buttons\">\n",
              "\n",
              "  <div class=\"colab-df-container\">\n",
              "    <button class=\"colab-df-convert\" onclick=\"convertToInteractive('df-d8188fd4-a1f3-4959-b4b0-877998ffd2f6')\"\n",
              "            title=\"Convert this dataframe to an interactive table.\"\n",
              "            style=\"display:none;\">\n",
              "\n",
              "  <svg xmlns=\"http://www.w3.org/2000/svg\" height=\"24px\" viewBox=\"0 -960 960 960\">\n",
              "    <path d=\"M120-120v-720h720v720H120Zm60-500h600v-160H180v160Zm220 220h160v-160H400v160Zm0 220h160v-160H400v160ZM180-400h160v-160H180v160Zm440 0h160v-160H620v160ZM180-180h160v-160H180v160Zm440 0h160v-160H620v160Z\"/>\n",
              "  </svg>\n",
              "    </button>\n",
              "\n",
              "  <style>\n",
              "    .colab-df-container {\n",
              "      display:flex;\n",
              "      gap: 12px;\n",
              "    }\n",
              "\n",
              "    .colab-df-convert {\n",
              "      background-color: #E8F0FE;\n",
              "      border: none;\n",
              "      border-radius: 50%;\n",
              "      cursor: pointer;\n",
              "      display: none;\n",
              "      fill: #1967D2;\n",
              "      height: 32px;\n",
              "      padding: 0 0 0 0;\n",
              "      width: 32px;\n",
              "    }\n",
              "\n",
              "    .colab-df-convert:hover {\n",
              "      background-color: #E2EBFA;\n",
              "      box-shadow: 0px 1px 2px rgba(60, 64, 67, 0.3), 0px 1px 3px 1px rgba(60, 64, 67, 0.15);\n",
              "      fill: #174EA6;\n",
              "    }\n",
              "\n",
              "    .colab-df-buttons div {\n",
              "      margin-bottom: 4px;\n",
              "    }\n",
              "\n",
              "    [theme=dark] .colab-df-convert {\n",
              "      background-color: #3B4455;\n",
              "      fill: #D2E3FC;\n",
              "    }\n",
              "\n",
              "    [theme=dark] .colab-df-convert:hover {\n",
              "      background-color: #434B5C;\n",
              "      box-shadow: 0px 1px 3px 1px rgba(0, 0, 0, 0.15);\n",
              "      filter: drop-shadow(0px 1px 2px rgba(0, 0, 0, 0.3));\n",
              "      fill: #FFFFFF;\n",
              "    }\n",
              "  </style>\n",
              "\n",
              "    <script>\n",
              "      const buttonEl =\n",
              "        document.querySelector('#df-d8188fd4-a1f3-4959-b4b0-877998ffd2f6 button.colab-df-convert');\n",
              "      buttonEl.style.display =\n",
              "        google.colab.kernel.accessAllowed ? 'block' : 'none';\n",
              "\n",
              "      async function convertToInteractive(key) {\n",
              "        const element = document.querySelector('#df-d8188fd4-a1f3-4959-b4b0-877998ffd2f6');\n",
              "        const dataTable =\n",
              "          await google.colab.kernel.invokeFunction('convertToInteractive',\n",
              "                                                    [key], {});\n",
              "        if (!dataTable) return;\n",
              "\n",
              "        const docLinkHtml = 'Like what you see? Visit the ' +\n",
              "          '<a target=\"_blank\" href=https://colab.research.google.com/notebooks/data_table.ipynb>data table notebook</a>'\n",
              "          + ' to learn more about interactive tables.';\n",
              "        element.innerHTML = '';\n",
              "        dataTable['output_type'] = 'display_data';\n",
              "        await google.colab.output.renderOutput(dataTable, element);\n",
              "        const docLink = document.createElement('div');\n",
              "        docLink.innerHTML = docLinkHtml;\n",
              "        element.appendChild(docLink);\n",
              "      }\n",
              "    </script>\n",
              "  </div>\n",
              "\n",
              "\n",
              "<div id=\"df-8b3fbd50-d8e0-4394-8c33-d1c52d194653\">\n",
              "  <button class=\"colab-df-quickchart\" onclick=\"quickchart('df-8b3fbd50-d8e0-4394-8c33-d1c52d194653')\"\n",
              "            title=\"Suggest charts.\"\n",
              "            style=\"display:none;\">\n",
              "\n",
              "<svg xmlns=\"http://www.w3.org/2000/svg\" height=\"24px\"viewBox=\"0 0 24 24\"\n",
              "     width=\"24px\">\n",
              "    <g>\n",
              "        <path d=\"M19 3H5c-1.1 0-2 .9-2 2v14c0 1.1.9 2 2 2h14c1.1 0 2-.9 2-2V5c0-1.1-.9-2-2-2zM9 17H7v-7h2v7zm4 0h-2V7h2v10zm4 0h-2v-4h2v4z\"/>\n",
              "    </g>\n",
              "</svg>\n",
              "  </button>\n",
              "\n",
              "<style>\n",
              "  .colab-df-quickchart {\n",
              "      --bg-color: #E8F0FE;\n",
              "      --fill-color: #1967D2;\n",
              "      --hover-bg-color: #E2EBFA;\n",
              "      --hover-fill-color: #174EA6;\n",
              "      --disabled-fill-color: #AAA;\n",
              "      --disabled-bg-color: #DDD;\n",
              "  }\n",
              "\n",
              "  [theme=dark] .colab-df-quickchart {\n",
              "      --bg-color: #3B4455;\n",
              "      --fill-color: #D2E3FC;\n",
              "      --hover-bg-color: #434B5C;\n",
              "      --hover-fill-color: #FFFFFF;\n",
              "      --disabled-bg-color: #3B4455;\n",
              "      --disabled-fill-color: #666;\n",
              "  }\n",
              "\n",
              "  .colab-df-quickchart {\n",
              "    background-color: var(--bg-color);\n",
              "    border: none;\n",
              "    border-radius: 50%;\n",
              "    cursor: pointer;\n",
              "    display: none;\n",
              "    fill: var(--fill-color);\n",
              "    height: 32px;\n",
              "    padding: 0;\n",
              "    width: 32px;\n",
              "  }\n",
              "\n",
              "  .colab-df-quickchart:hover {\n",
              "    background-color: var(--hover-bg-color);\n",
              "    box-shadow: 0 1px 2px rgba(60, 64, 67, 0.3), 0 1px 3px 1px rgba(60, 64, 67, 0.15);\n",
              "    fill: var(--button-hover-fill-color);\n",
              "  }\n",
              "\n",
              "  .colab-df-quickchart-complete:disabled,\n",
              "  .colab-df-quickchart-complete:disabled:hover {\n",
              "    background-color: var(--disabled-bg-color);\n",
              "    fill: var(--disabled-fill-color);\n",
              "    box-shadow: none;\n",
              "  }\n",
              "\n",
              "  .colab-df-spinner {\n",
              "    border: 2px solid var(--fill-color);\n",
              "    border-color: transparent;\n",
              "    border-bottom-color: var(--fill-color);\n",
              "    animation:\n",
              "      spin 1s steps(1) infinite;\n",
              "  }\n",
              "\n",
              "  @keyframes spin {\n",
              "    0% {\n",
              "      border-color: transparent;\n",
              "      border-bottom-color: var(--fill-color);\n",
              "      border-left-color: var(--fill-color);\n",
              "    }\n",
              "    20% {\n",
              "      border-color: transparent;\n",
              "      border-left-color: var(--fill-color);\n",
              "      border-top-color: var(--fill-color);\n",
              "    }\n",
              "    30% {\n",
              "      border-color: transparent;\n",
              "      border-left-color: var(--fill-color);\n",
              "      border-top-color: var(--fill-color);\n",
              "      border-right-color: var(--fill-color);\n",
              "    }\n",
              "    40% {\n",
              "      border-color: transparent;\n",
              "      border-right-color: var(--fill-color);\n",
              "      border-top-color: var(--fill-color);\n",
              "    }\n",
              "    60% {\n",
              "      border-color: transparent;\n",
              "      border-right-color: var(--fill-color);\n",
              "    }\n",
              "    80% {\n",
              "      border-color: transparent;\n",
              "      border-right-color: var(--fill-color);\n",
              "      border-bottom-color: var(--fill-color);\n",
              "    }\n",
              "    90% {\n",
              "      border-color: transparent;\n",
              "      border-bottom-color: var(--fill-color);\n",
              "    }\n",
              "  }\n",
              "</style>\n",
              "\n",
              "  <script>\n",
              "    async function quickchart(key) {\n",
              "      const quickchartButtonEl =\n",
              "        document.querySelector('#' + key + ' button');\n",
              "      quickchartButtonEl.disabled = true;  // To prevent multiple clicks.\n",
              "      quickchartButtonEl.classList.add('colab-df-spinner');\n",
              "      try {\n",
              "        const charts = await google.colab.kernel.invokeFunction(\n",
              "            'suggestCharts', [key], {});\n",
              "      } catch (error) {\n",
              "        console.error('Error during call to suggestCharts:', error);\n",
              "      }\n",
              "      quickchartButtonEl.classList.remove('colab-df-spinner');\n",
              "      quickchartButtonEl.classList.add('colab-df-quickchart-complete');\n",
              "    }\n",
              "    (() => {\n",
              "      let quickchartButtonEl =\n",
              "        document.querySelector('#df-8b3fbd50-d8e0-4394-8c33-d1c52d194653 button');\n",
              "      quickchartButtonEl.style.display =\n",
              "        google.colab.kernel.accessAllowed ? 'block' : 'none';\n",
              "    })();\n",
              "  </script>\n",
              "</div>\n",
              "    </div>\n",
              "  </div>\n"
            ]
          },
          "metadata": {},
          "execution_count": 29
        }
      ]
    },
    {
      "cell_type": "markdown",
      "source": [
        "Заполнение пропусков в данных:"
      ],
      "metadata": {
        "id": "598mJobI2bcb"
      }
    },
    {
      "cell_type": "code",
      "source": [
        "test_data['credit_count'] = simple_imputer.transform(test_data[['credit_count']])\n",
        "transformed_test_data = knn_imputer.transform(test_data[numeric_columns])[:, 8]\n",
        "test_data['overdue_credit_count'] = transformed_test_data"
      ],
      "metadata": {
        "id": "u7rkM3U91_la"
      },
      "execution_count": 30,
      "outputs": []
    },
    {
      "cell_type": "markdown",
      "source": [
        "Вспомним теперь, что в тестовых данных также есть пропуск в колонке monthly_income.\n",
        "\n",
        "**Задание**: заполните пропуск в monthly_income в тестовых данных"
      ],
      "metadata": {
        "id": "zmjRopUzPWLp"
      }
    },
    {
      "cell_type": "markdown",
      "source": [
        "Обработка категориальных признаков:"
      ],
      "metadata": {
        "id": "FR8OPDEH2v1C"
      }
    },
    {
      "cell_type": "code",
      "source": [
        "new_category_columns_test = ohe.transform(test_data[categorical_columns])\n",
        "new_test_columns = pd.DataFrame(new_category_columns_test, columns=ohe.get_feature_names_out())\n",
        "test_data = test_data.drop(columns=categorical_columns)\n",
        "test_data = pd.concat([test_data, new_test_columns], axis=1)\n",
        "test_data.head()"
      ],
      "metadata": {
        "id": "55y5G2Xr2XcY"
      },
      "execution_count": null,
      "outputs": []
    },
    {
      "cell_type": "markdown",
      "source": [
        "И еще остается отдельный признак living_region.\n",
        "\n",
        "**Задание**: предобработайте признак living_region"
      ],
      "metadata": {
        "id": "jHZ_OPyq3QUS"
      }
    },
    {
      "cell_type": "markdown",
      "source": [
        "## Обучение и подбор параметров модели"
      ],
      "metadata": {
        "id": "Smf2x6zd3wu7"
      }
    },
    {
      "cell_type": "markdown",
      "source": [
        "**Задание**: обучите модель машинного обучения на тренировочных данных и подберите гиперпараметры.\n",
        "\n",
        "Вопрос: когда нужно делить данные на train/val? До или после предобработки признаков тренировочного датасета?\n",
        "\n",
        "Обратите внимание, что метрика качества в [контесте на Kaggle](https://www.kaggle.com/competitions/bank-issues-042022/leaderboard) для этой задачи — ROC AUC"
      ],
      "metadata": {
        "id": "upkINpre31_u"
      }
    },
    {
      "cell_type": "markdown",
      "source": [
        "## Получение предсказаний на тестовых данных"
      ],
      "metadata": {
        "id": "E8n2QZP24GW4"
      }
    },
    {
      "cell_type": "markdown",
      "source": [
        "**Задание**: получите предсказания модели на тестовых данных test_data. Полученное предсказание отправьте в [контест на Kaggle](https://www.kaggle.com/competitions/bank-issues-042022/leaderboard)"
      ],
      "metadata": {
        "id": "ZBYdQrEx4I_T"
      }
    },
    {
      "cell_type": "code",
      "source": [],
      "metadata": {
        "id": "9i1-wCiw44Si"
      },
      "execution_count": null,
      "outputs": []
    }
  ]
}